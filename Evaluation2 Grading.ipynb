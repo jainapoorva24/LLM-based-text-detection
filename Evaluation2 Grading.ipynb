{
 "cells": [
  {
   "cell_type": "code",
   "execution_count": null,
   "id": "11f20a16",
   "metadata": {
    "papermill": {
     "duration": 0.010085,
     "end_time": "2023-12-06T18:56:54.589267",
     "exception": false,
     "start_time": "2023-12-06T18:56:54.579182",
     "status": "completed"
    },
    "tags": []
   },
   "outputs": [],
   "source": []
  },
  {
   "cell_type": "markdown",
   "id": "4a38eb9c",
   "metadata": {
    "papermill": {
     "duration": 0.009025,
     "end_time": "2023-12-06T18:56:54.607619",
     "exception": false,
     "start_time": "2023-12-06T18:56:54.598594",
     "status": "completed"
    },
    "tags": []
   },
   "source": [
    "**IMPORTING THE LIBRARIES**"
   ]
  },
  {
   "cell_type": "code",
   "execution_count": 1,
   "id": "accbc4eb",
   "metadata": {
    "execution": {
     "iopub.execute_input": "2023-12-06T18:56:54.628924Z",
     "iopub.status.busy": "2023-12-06T18:56:54.628345Z",
     "iopub.status.idle": "2023-12-06T18:57:08.059179Z",
     "shell.execute_reply": "2023-12-06T18:57:08.058221Z"
    },
    "papermill": {
     "duration": 13.44443,
     "end_time": "2023-12-06T18:57:08.061342",
     "exception": false,
     "start_time": "2023-12-06T18:56:54.616912",
     "status": "completed"
    },
    "tags": []
   },
   "outputs": [],
   "source": [
    "import string\n",
    "import re\n",
    "import numpy as np\n",
    "import pandas as pd\n",
    "import tensorflow as tf\n",
    "import tensorflow_decision_forests as tfdf\n",
    "from nltk.corpus import stopwords\n",
    "import seaborn as sns\n",
    "import matplotlib.pyplot as plt"
   ]
  },
  {
   "cell_type": "code",
   "execution_count": 2,
   "id": "aee9edc7",
   "metadata": {
    "execution": {
     "iopub.execute_input": "2023-12-06T18:57:08.082559Z",
     "iopub.status.busy": "2023-12-06T18:57:08.081913Z",
     "iopub.status.idle": "2023-12-06T18:57:08.088266Z",
     "shell.execute_reply": "2023-12-06T18:57:08.086852Z"
    },
    "papermill": {
     "duration": 0.018959,
     "end_time": "2023-12-06T18:57:08.090265",
     "exception": false,
     "start_time": "2023-12-06T18:57:08.071306",
     "status": "completed"
    },
    "tags": []
   },
   "outputs": [
    {
     "name": "stdout",
     "output_type": "stream",
     "text": [
      "TENSORFLOW_VERSION2.13.0\n",
      "TENSORFLOW DECISION FORESTS 1.5.0\n"
     ]
    }
   ],
   "source": [
    "print(\"TENSORFLOW_VERSION\"+ tf.__version__)\n",
    "print(\"TENSORFLOW DECISION FORESTS \"+ tfdf.__version__)"
   ]
  },
  {
   "cell_type": "markdown",
   "id": "1ccd4c53",
   "metadata": {
    "papermill": {
     "duration": 0.009221,
     "end_time": "2023-12-06T18:57:08.108890",
     "exception": false,
     "start_time": "2023-12-06T18:57:08.099669",
     "status": "completed"
    },
    "tags": []
   },
   "source": [
    "**LOADING THE DATASET**"
   ]
  },
  {
   "cell_type": "code",
   "execution_count": 3,
   "id": "95d92f0b",
   "metadata": {
    "execution": {
     "iopub.execute_input": "2023-12-06T18:57:08.130748Z",
     "iopub.status.busy": "2023-12-06T18:57:08.129210Z",
     "iopub.status.idle": "2023-12-06T18:57:08.152738Z",
     "shell.execute_reply": "2023-12-06T18:57:08.151203Z"
    },
    "papermill": {
     "duration": 0.036472,
     "end_time": "2023-12-06T18:57:08.154742",
     "exception": false,
     "start_time": "2023-12-06T18:57:08.118270",
     "status": "completed"
    },
    "tags": []
   },
   "outputs": [
    {
     "name": "stdout",
     "output_type": "stream",
     "text": [
      "SHAPE OF FULL PROMPT DATASET is (4, 4)\n"
     ]
    }
   ],
   "source": [
    "df_train_prompt=pd.read_csv(\"/kaggle/input/commonlit-evaluate-student-summaries/prompts_train.csv\")\n",
    "print(\"SHAPE OF FULL PROMPT DATASET is {}\".format(df_train_prompt.shape))"
   ]
  },
  {
   "cell_type": "code",
   "execution_count": 4,
   "id": "31f4c860",
   "metadata": {
    "execution": {
     "iopub.execute_input": "2023-12-06T18:57:08.175837Z",
     "iopub.status.busy": "2023-12-06T18:57:08.175517Z",
     "iopub.status.idle": "2023-12-06T18:57:08.193980Z",
     "shell.execute_reply": "2023-12-06T18:57:08.193131Z"
    },
    "papermill": {
     "duration": 0.03171,
     "end_time": "2023-12-06T18:57:08.196235",
     "exception": false,
     "start_time": "2023-12-06T18:57:08.164525",
     "status": "completed"
    },
    "tags": []
   },
   "outputs": [
    {
     "data": {
      "text/html": [
       "<div>\n",
       "<style scoped>\n",
       "    .dataframe tbody tr th:only-of-type {\n",
       "        vertical-align: middle;\n",
       "    }\n",
       "\n",
       "    .dataframe tbody tr th {\n",
       "        vertical-align: top;\n",
       "    }\n",
       "\n",
       "    .dataframe thead th {\n",
       "        text-align: right;\n",
       "    }\n",
       "</style>\n",
       "<table border=\"1\" class=\"dataframe\">\n",
       "  <thead>\n",
       "    <tr style=\"text-align: right;\">\n",
       "      <th></th>\n",
       "      <th>prompt_id</th>\n",
       "      <th>prompt_question</th>\n",
       "      <th>prompt_title</th>\n",
       "      <th>prompt_text</th>\n",
       "    </tr>\n",
       "  </thead>\n",
       "  <tbody>\n",
       "    <tr>\n",
       "      <th>0</th>\n",
       "      <td>39c16e</td>\n",
       "      <td>Summarize at least 3 elements of an ideal trag...</td>\n",
       "      <td>On Tragedy</td>\n",
       "      <td>Chapter 13 \\r\\nAs the sequel to what has alrea...</td>\n",
       "    </tr>\n",
       "    <tr>\n",
       "      <th>1</th>\n",
       "      <td>3b9047</td>\n",
       "      <td>In complete sentences, summarize the structure...</td>\n",
       "      <td>Egyptian Social Structure</td>\n",
       "      <td>Egyptian society was structured like a pyramid...</td>\n",
       "    </tr>\n",
       "    <tr>\n",
       "      <th>2</th>\n",
       "      <td>814d6b</td>\n",
       "      <td>Summarize how the Third Wave developed over su...</td>\n",
       "      <td>The Third Wave</td>\n",
       "      <td>Background \\r\\nThe Third Wave experiment took ...</td>\n",
       "    </tr>\n",
       "    <tr>\n",
       "      <th>3</th>\n",
       "      <td>ebad26</td>\n",
       "      <td>Summarize the various ways the factory would u...</td>\n",
       "      <td>Excerpt from The Jungle</td>\n",
       "      <td>With one member trimming beef in a cannery, an...</td>\n",
       "    </tr>\n",
       "  </tbody>\n",
       "</table>\n",
       "</div>"
      ],
      "text/plain": [
       "  prompt_id                                    prompt_question  \\\n",
       "0    39c16e  Summarize at least 3 elements of an ideal trag...   \n",
       "1    3b9047  In complete sentences, summarize the structure...   \n",
       "2    814d6b  Summarize how the Third Wave developed over su...   \n",
       "3    ebad26  Summarize the various ways the factory would u...   \n",
       "\n",
       "                prompt_title  \\\n",
       "0                 On Tragedy   \n",
       "1  Egyptian Social Structure   \n",
       "2             The Third Wave   \n",
       "3    Excerpt from The Jungle   \n",
       "\n",
       "                                         prompt_text  \n",
       "0  Chapter 13 \\r\\nAs the sequel to what has alrea...  \n",
       "1  Egyptian society was structured like a pyramid...  \n",
       "2  Background \\r\\nThe Third Wave experiment took ...  \n",
       "3  With one member trimming beef in a cannery, an...  "
      ]
     },
     "execution_count": 4,
     "metadata": {},
     "output_type": "execute_result"
    }
   ],
   "source": [
    "df_train_prompt.head()"
   ]
  },
  {
   "cell_type": "code",
   "execution_count": 5,
   "id": "1b325323",
   "metadata": {
    "execution": {
     "iopub.execute_input": "2023-12-06T18:57:08.218214Z",
     "iopub.status.busy": "2023-12-06T18:57:08.217637Z",
     "iopub.status.idle": "2023-12-06T18:57:08.368143Z",
     "shell.execute_reply": "2023-12-06T18:57:08.367260Z"
    },
    "papermill": {
     "duration": 0.163839,
     "end_time": "2023-12-06T18:57:08.370467",
     "exception": false,
     "start_time": "2023-12-06T18:57:08.206628",
     "status": "completed"
    },
    "tags": []
   },
   "outputs": [
    {
     "name": "stdout",
     "output_type": "stream",
     "text": [
      "Shape of train summaries (7165, 5)\n"
     ]
    }
   ],
   "source": [
    "df_train_summ=pd.read_csv(\"/kaggle/input/commonlit-evaluate-student-summaries/summaries_train.csv\")\n",
    "print(\"Shape of train summaries {}\".format(df_train_summ.shape))"
   ]
  },
  {
   "cell_type": "code",
   "execution_count": 6,
   "id": "4457e285",
   "metadata": {
    "execution": {
     "iopub.execute_input": "2023-12-06T18:57:08.392657Z",
     "iopub.status.busy": "2023-12-06T18:57:08.392055Z",
     "iopub.status.idle": "2023-12-06T18:57:08.403892Z",
     "shell.execute_reply": "2023-12-06T18:57:08.403088Z"
    },
    "papermill": {
     "duration": 0.024782,
     "end_time": "2023-12-06T18:57:08.405551",
     "exception": false,
     "start_time": "2023-12-06T18:57:08.380769",
     "status": "completed"
    },
    "tags": []
   },
   "outputs": [
    {
     "data": {
      "text/html": [
       "<div>\n",
       "<style scoped>\n",
       "    .dataframe tbody tr th:only-of-type {\n",
       "        vertical-align: middle;\n",
       "    }\n",
       "\n",
       "    .dataframe tbody tr th {\n",
       "        vertical-align: top;\n",
       "    }\n",
       "\n",
       "    .dataframe thead th {\n",
       "        text-align: right;\n",
       "    }\n",
       "</style>\n",
       "<table border=\"1\" class=\"dataframe\">\n",
       "  <thead>\n",
       "    <tr style=\"text-align: right;\">\n",
       "      <th></th>\n",
       "      <th>student_id</th>\n",
       "      <th>prompt_id</th>\n",
       "      <th>text</th>\n",
       "      <th>content</th>\n",
       "      <th>wording</th>\n",
       "    </tr>\n",
       "  </thead>\n",
       "  <tbody>\n",
       "    <tr>\n",
       "      <th>0</th>\n",
       "      <td>000e8c3c7ddb</td>\n",
       "      <td>814d6b</td>\n",
       "      <td>The third wave was an experimentto see how peo...</td>\n",
       "      <td>0.205683</td>\n",
       "      <td>0.380538</td>\n",
       "    </tr>\n",
       "    <tr>\n",
       "      <th>1</th>\n",
       "      <td>0020ae56ffbf</td>\n",
       "      <td>ebad26</td>\n",
       "      <td>They would rub it up with soda to make the sme...</td>\n",
       "      <td>-0.548304</td>\n",
       "      <td>0.506755</td>\n",
       "    </tr>\n",
       "    <tr>\n",
       "      <th>2</th>\n",
       "      <td>004e978e639e</td>\n",
       "      <td>3b9047</td>\n",
       "      <td>In Egypt, there were many occupations and soci...</td>\n",
       "      <td>3.128928</td>\n",
       "      <td>4.231226</td>\n",
       "    </tr>\n",
       "    <tr>\n",
       "      <th>3</th>\n",
       "      <td>005ab0199905</td>\n",
       "      <td>3b9047</td>\n",
       "      <td>The highest class was Pharaohs these people we...</td>\n",
       "      <td>-0.210614</td>\n",
       "      <td>-0.471415</td>\n",
       "    </tr>\n",
       "    <tr>\n",
       "      <th>4</th>\n",
       "      <td>0070c9e7af47</td>\n",
       "      <td>814d6b</td>\n",
       "      <td>The Third Wave developed  rapidly because the ...</td>\n",
       "      <td>3.272894</td>\n",
       "      <td>3.219757</td>\n",
       "    </tr>\n",
       "  </tbody>\n",
       "</table>\n",
       "</div>"
      ],
      "text/plain": [
       "     student_id prompt_id                                               text  \\\n",
       "0  000e8c3c7ddb    814d6b  The third wave was an experimentto see how peo...   \n",
       "1  0020ae56ffbf    ebad26  They would rub it up with soda to make the sme...   \n",
       "2  004e978e639e    3b9047  In Egypt, there were many occupations and soci...   \n",
       "3  005ab0199905    3b9047  The highest class was Pharaohs these people we...   \n",
       "4  0070c9e7af47    814d6b  The Third Wave developed  rapidly because the ...   \n",
       "\n",
       "    content   wording  \n",
       "0  0.205683  0.380538  \n",
       "1 -0.548304  0.506755  \n",
       "2  3.128928  4.231226  \n",
       "3 -0.210614 -0.471415  \n",
       "4  3.272894  3.219757  "
      ]
     },
     "execution_count": 6,
     "metadata": {},
     "output_type": "execute_result"
    }
   ],
   "source": [
    "df_train_summ.head()\n"
   ]
  },
  {
   "cell_type": "code",
   "execution_count": 7,
   "id": "f13fbcd5",
   "metadata": {
    "execution": {
     "iopub.execute_input": "2023-12-06T18:57:08.427599Z",
     "iopub.status.busy": "2023-12-06T18:57:08.426806Z",
     "iopub.status.idle": "2023-12-06T18:57:08.455501Z",
     "shell.execute_reply": "2023-12-06T18:57:08.454458Z"
    },
    "papermill": {
     "duration": 0.04159,
     "end_time": "2023-12-06T18:57:08.457467",
     "exception": false,
     "start_time": "2023-12-06T18:57:08.415877",
     "status": "completed"
    },
    "tags": []
   },
   "outputs": [
    {
     "name": "stdout",
     "output_type": "stream",
     "text": [
      "COMBINED TRAINING SET SHAPE (7165, 8)\n"
     ]
    }
   ],
   "source": [
    "df_train=df_train_summ.merge(df_train_prompt,on='prompt_id')\n",
    "print(\"COMBINED TRAINING SET SHAPE {}\". format(df_train.shape))"
   ]
  },
  {
   "cell_type": "code",
   "execution_count": 8,
   "id": "5b70bfaa",
   "metadata": {
    "execution": {
     "iopub.execute_input": "2023-12-06T18:57:08.479990Z",
     "iopub.status.busy": "2023-12-06T18:57:08.479479Z",
     "iopub.status.idle": "2023-12-06T18:57:08.491139Z",
     "shell.execute_reply": "2023-12-06T18:57:08.490245Z"
    },
    "papermill": {
     "duration": 0.02508,
     "end_time": "2023-12-06T18:57:08.492929",
     "exception": false,
     "start_time": "2023-12-06T18:57:08.467849",
     "status": "completed"
    },
    "tags": []
   },
   "outputs": [
    {
     "data": {
      "text/html": [
       "<div>\n",
       "<style scoped>\n",
       "    .dataframe tbody tr th:only-of-type {\n",
       "        vertical-align: middle;\n",
       "    }\n",
       "\n",
       "    .dataframe tbody tr th {\n",
       "        vertical-align: top;\n",
       "    }\n",
       "\n",
       "    .dataframe thead th {\n",
       "        text-align: right;\n",
       "    }\n",
       "</style>\n",
       "<table border=\"1\" class=\"dataframe\">\n",
       "  <thead>\n",
       "    <tr style=\"text-align: right;\">\n",
       "      <th></th>\n",
       "      <th>student_id</th>\n",
       "      <th>prompt_id</th>\n",
       "      <th>text</th>\n",
       "      <th>content</th>\n",
       "      <th>wording</th>\n",
       "      <th>prompt_question</th>\n",
       "      <th>prompt_title</th>\n",
       "      <th>prompt_text</th>\n",
       "    </tr>\n",
       "  </thead>\n",
       "  <tbody>\n",
       "    <tr>\n",
       "      <th>0</th>\n",
       "      <td>000e8c3c7ddb</td>\n",
       "      <td>814d6b</td>\n",
       "      <td>The third wave was an experimentto see how peo...</td>\n",
       "      <td>0.205683</td>\n",
       "      <td>0.380538</td>\n",
       "      <td>Summarize how the Third Wave developed over su...</td>\n",
       "      <td>The Third Wave</td>\n",
       "      <td>Background \\r\\nThe Third Wave experiment took ...</td>\n",
       "    </tr>\n",
       "    <tr>\n",
       "      <th>1</th>\n",
       "      <td>0070c9e7af47</td>\n",
       "      <td>814d6b</td>\n",
       "      <td>The Third Wave developed  rapidly because the ...</td>\n",
       "      <td>3.272894</td>\n",
       "      <td>3.219757</td>\n",
       "      <td>Summarize how the Third Wave developed over su...</td>\n",
       "      <td>The Third Wave</td>\n",
       "      <td>Background \\r\\nThe Third Wave experiment took ...</td>\n",
       "    </tr>\n",
       "    <tr>\n",
       "      <th>2</th>\n",
       "      <td>0095993991fe</td>\n",
       "      <td>814d6b</td>\n",
       "      <td>The third wave only started as an experiment w...</td>\n",
       "      <td>0.205683</td>\n",
       "      <td>0.380538</td>\n",
       "      <td>Summarize how the Third Wave developed over su...</td>\n",
       "      <td>The Third Wave</td>\n",
       "      <td>Background \\r\\nThe Third Wave experiment took ...</td>\n",
       "    </tr>\n",
       "    <tr>\n",
       "      <th>3</th>\n",
       "      <td>00c20c6ddd23</td>\n",
       "      <td>814d6b</td>\n",
       "      <td>The experimen was orginally about how even whe...</td>\n",
       "      <td>0.567975</td>\n",
       "      <td>0.969062</td>\n",
       "      <td>Summarize how the Third Wave developed over su...</td>\n",
       "      <td>The Third Wave</td>\n",
       "      <td>Background \\r\\nThe Third Wave experiment took ...</td>\n",
       "    </tr>\n",
       "    <tr>\n",
       "      <th>4</th>\n",
       "      <td>00d40ad10dc9</td>\n",
       "      <td>814d6b</td>\n",
       "      <td>The third wave developed so quickly due to the...</td>\n",
       "      <td>-0.910596</td>\n",
       "      <td>-0.081769</td>\n",
       "      <td>Summarize how the Third Wave developed over su...</td>\n",
       "      <td>The Third Wave</td>\n",
       "      <td>Background \\r\\nThe Third Wave experiment took ...</td>\n",
       "    </tr>\n",
       "  </tbody>\n",
       "</table>\n",
       "</div>"
      ],
      "text/plain": [
       "     student_id prompt_id                                               text  \\\n",
       "0  000e8c3c7ddb    814d6b  The third wave was an experimentto see how peo...   \n",
       "1  0070c9e7af47    814d6b  The Third Wave developed  rapidly because the ...   \n",
       "2  0095993991fe    814d6b  The third wave only started as an experiment w...   \n",
       "3  00c20c6ddd23    814d6b  The experimen was orginally about how even whe...   \n",
       "4  00d40ad10dc9    814d6b  The third wave developed so quickly due to the...   \n",
       "\n",
       "    content   wording                                    prompt_question  \\\n",
       "0  0.205683  0.380538  Summarize how the Third Wave developed over su...   \n",
       "1  3.272894  3.219757  Summarize how the Third Wave developed over su...   \n",
       "2  0.205683  0.380538  Summarize how the Third Wave developed over su...   \n",
       "3  0.567975  0.969062  Summarize how the Third Wave developed over su...   \n",
       "4 -0.910596 -0.081769  Summarize how the Third Wave developed over su...   \n",
       "\n",
       "     prompt_title                                        prompt_text  \n",
       "0  The Third Wave  Background \\r\\nThe Third Wave experiment took ...  \n",
       "1  The Third Wave  Background \\r\\nThe Third Wave experiment took ...  \n",
       "2  The Third Wave  Background \\r\\nThe Third Wave experiment took ...  \n",
       "3  The Third Wave  Background \\r\\nThe Third Wave experiment took ...  \n",
       "4  The Third Wave  Background \\r\\nThe Third Wave experiment took ...  "
      ]
     },
     "execution_count": 8,
     "metadata": {},
     "output_type": "execute_result"
    }
   ],
   "source": [
    "df_train.head()"
   ]
  },
  {
   "cell_type": "code",
   "execution_count": 9,
   "id": "731b7d60",
   "metadata": {
    "execution": {
     "iopub.execute_input": "2023-12-06T18:57:08.517078Z",
     "iopub.status.busy": "2023-12-06T18:57:08.516195Z",
     "iopub.status.idle": "2023-12-06T18:57:08.532487Z",
     "shell.execute_reply": "2023-12-06T18:57:08.531757Z"
    },
    "papermill": {
     "duration": 0.030639,
     "end_time": "2023-12-06T18:57:08.534336",
     "exception": false,
     "start_time": "2023-12-06T18:57:08.503697",
     "status": "completed"
    },
    "tags": []
   },
   "outputs": [
    {
     "data": {
      "text/html": [
       "<div>\n",
       "<style scoped>\n",
       "    .dataframe tbody tr th:only-of-type {\n",
       "        vertical-align: middle;\n",
       "    }\n",
       "\n",
       "    .dataframe tbody tr th {\n",
       "        vertical-align: top;\n",
       "    }\n",
       "\n",
       "    .dataframe thead th {\n",
       "        text-align: right;\n",
       "    }\n",
       "</style>\n",
       "<table border=\"1\" class=\"dataframe\">\n",
       "  <thead>\n",
       "    <tr style=\"text-align: right;\">\n",
       "      <th></th>\n",
       "      <th>content</th>\n",
       "      <th>wording</th>\n",
       "    </tr>\n",
       "  </thead>\n",
       "  <tbody>\n",
       "    <tr>\n",
       "      <th>count</th>\n",
       "      <td>7165.000000</td>\n",
       "      <td>7165.000000</td>\n",
       "    </tr>\n",
       "    <tr>\n",
       "      <th>mean</th>\n",
       "      <td>-0.014853</td>\n",
       "      <td>-0.063072</td>\n",
       "    </tr>\n",
       "    <tr>\n",
       "      <th>std</th>\n",
       "      <td>1.043569</td>\n",
       "      <td>1.036048</td>\n",
       "    </tr>\n",
       "    <tr>\n",
       "      <th>min</th>\n",
       "      <td>-1.729859</td>\n",
       "      <td>-1.962614</td>\n",
       "    </tr>\n",
       "    <tr>\n",
       "      <th>25%</th>\n",
       "      <td>-0.799545</td>\n",
       "      <td>-0.872720</td>\n",
       "    </tr>\n",
       "    <tr>\n",
       "      <th>50%</th>\n",
       "      <td>-0.093814</td>\n",
       "      <td>-0.081769</td>\n",
       "    </tr>\n",
       "    <tr>\n",
       "      <th>75%</th>\n",
       "      <td>0.499660</td>\n",
       "      <td>0.503833</td>\n",
       "    </tr>\n",
       "    <tr>\n",
       "      <th>max</th>\n",
       "      <td>3.900326</td>\n",
       "      <td>4.310693</td>\n",
       "    </tr>\n",
       "  </tbody>\n",
       "</table>\n",
       "</div>"
      ],
      "text/plain": [
       "           content      wording\n",
       "count  7165.000000  7165.000000\n",
       "mean     -0.014853    -0.063072\n",
       "std       1.043569     1.036048\n",
       "min      -1.729859    -1.962614\n",
       "25%      -0.799545    -0.872720\n",
       "50%      -0.093814    -0.081769\n",
       "75%       0.499660     0.503833\n",
       "max       3.900326     4.310693"
      ]
     },
     "execution_count": 9,
     "metadata": {},
     "output_type": "execute_result"
    }
   ],
   "source": [
    "#describe function gives count,mean,std,min,25%,75% and max of numerical entries\n",
    "df_train.describe()"
   ]
  },
  {
   "cell_type": "code",
   "execution_count": 10,
   "id": "27ee5b38",
   "metadata": {
    "execution": {
     "iopub.execute_input": "2023-12-06T18:57:08.602731Z",
     "iopub.status.busy": "2023-12-06T18:57:08.601827Z",
     "iopub.status.idle": "2023-12-06T18:57:08.622419Z",
     "shell.execute_reply": "2023-12-06T18:57:08.621106Z"
    },
    "papermill": {
     "duration": 0.034593,
     "end_time": "2023-12-06T18:57:08.624761",
     "exception": false,
     "start_time": "2023-12-06T18:57:08.590168",
     "status": "completed"
    },
    "tags": []
   },
   "outputs": [
    {
     "name": "stdout",
     "output_type": "stream",
     "text": [
      "<class 'pandas.core.frame.DataFrame'>\n",
      "RangeIndex: 7165 entries, 0 to 7164\n",
      "Data columns (total 8 columns):\n",
      " #   Column           Non-Null Count  Dtype  \n",
      "---  ------           --------------  -----  \n",
      " 0   student_id       7165 non-null   object \n",
      " 1   prompt_id        7165 non-null   object \n",
      " 2   text             7165 non-null   object \n",
      " 3   content          7165 non-null   float64\n",
      " 4   wording          7165 non-null   float64\n",
      " 5   prompt_question  7165 non-null   object \n",
      " 6   prompt_title     7165 non-null   object \n",
      " 7   prompt_text      7165 non-null   object \n",
      "dtypes: float64(2), object(6)\n",
      "memory usage: 447.9+ KB\n"
     ]
    }
   ],
   "source": [
    "df_train.info()"
   ]
  },
  {
   "cell_type": "code",
   "execution_count": 11,
   "id": "beccd363",
   "metadata": {
    "execution": {
     "iopub.execute_input": "2023-12-06T18:57:08.649379Z",
     "iopub.status.busy": "2023-12-06T18:57:08.648661Z",
     "iopub.status.idle": "2023-12-06T18:57:09.120547Z",
     "shell.execute_reply": "2023-12-06T18:57:09.119867Z"
    },
    "papermill": {
     "duration": 0.486312,
     "end_time": "2023-12-06T18:57:09.122198",
     "exception": false,
     "start_time": "2023-12-06T18:57:08.635886",
     "status": "completed"
    },
    "tags": []
   },
   "outputs": [
    {
     "data": {
      "image/png": "[encoded data removed]",
      "text/plain": [
       "<Figure size 1500x500 with 2 Axes>"
      ]
     },
     "metadata": {},
     "output_type": "display_data"
    }
   ],
   "source": [
    "plt.figure(figsize=(15,5))\n",
    "#plot with one row and 2 columns\n",
    "plt.subplot(1,2,1)\n",
    "sns.histplot(data=df_train,x='content')\n",
    "plt.subplot(1,2,2)\n",
    "sns.histplot(data=df_train,x='wording')\n",
    "plt.show()"
   ]
  },
  {
   "cell_type": "markdown",
   "id": "ac7c6f38",
   "metadata": {
    "papermill": {
     "duration": 0.011827,
     "end_time": "2023-12-06T18:57:09.146349",
     "exception": false,
     "start_time": "2023-12-06T18:57:09.134522",
     "status": "completed"
    },
    "tags": []
   },
   "source": [
    "**PREPROCESSING THE DATA**"
   ]
  },
  {
   "cell_type": "code",
   "execution_count": 12,
   "id": "bef08dfd",
   "metadata": {
    "execution": {
     "iopub.execute_input": "2023-12-06T18:57:09.170919Z",
     "iopub.status.busy": "2023-12-06T18:57:09.170587Z",
     "iopub.status.idle": "2023-12-06T18:57:09.175487Z",
     "shell.execute_reply": "2023-12-06T18:57:09.174318Z"
    },
    "papermill": {
     "duration": 0.019207,
     "end_time": "2023-12-06T18:57:09.177051",
     "exception": false,
     "start_time": "2023-12-06T18:57:09.157844",
     "status": "completed"
    },
    "tags": []
   },
   "outputs": [],
   "source": [
    "#function to count stopwords\n",
    "def count_stopwords(text:str)->int:\n",
    "    #nltk collects list of all stopwords\n",
    "    stopword_list=set(stopwords.words('english'))\n",
    "    #text is split using whitespaces\n",
    "    words=text.split()\n",
    "    #check if word is in list of stopwords: count++\n",
    "    stopwords_count=sum(1 for word in words if word.lower() in stopword_list)\n",
    "    return stopwords_count"
   ]
  },
  {
   "cell_type": "code",
   "execution_count": 13,
   "id": "2feef885",
   "metadata": {
    "execution": {
     "iopub.execute_input": "2023-12-06T18:57:09.200562Z",
     "iopub.status.busy": "2023-12-06T18:57:09.200238Z",
     "iopub.status.idle": "2023-12-06T18:57:09.205499Z",
     "shell.execute_reply": "2023-12-06T18:57:09.204060Z"
    },
    "papermill": {
     "duration": 0.01928,
     "end_time": "2023-12-06T18:57:09.207659",
     "exception": false,
     "start_time": "2023-12-06T18:57:09.188379",
     "status": "completed"
    },
    "tags": []
   },
   "outputs": [],
   "source": [
    "def count_punctuation(text:str)->int:\n",
    "    punctuation_list=set(string.punctuation)\n",
    "    punctuation_count=sum(1 for char in text if char in punctuation_list)\n",
    "    return punctuation_count"
   ]
  },
  {
   "cell_type": "code",
   "execution_count": 14,
   "id": "ae5cf323",
   "metadata": {
    "execution": {
     "iopub.execute_input": "2023-12-06T18:57:09.230845Z",
     "iopub.status.busy": "2023-12-06T18:57:09.230481Z",
     "iopub.status.idle": "2023-12-06T18:57:09.235439Z",
     "shell.execute_reply": "2023-12-06T18:57:09.234594Z"
    },
    "papermill": {
     "duration": 0.018521,
     "end_time": "2023-12-06T18:57:09.237077",
     "exception": false,
     "start_time": "2023-12-06T18:57:09.218556",
     "status": "completed"
    },
    "tags": []
   },
   "outputs": [],
   "source": [
    "def count_numbers(text:str)->int:\n",
    "    numbers=re.findall(r'\\d',text)\n",
    "    numbers_count=len(numbers)\n",
    "    return numbers_count"
   ]
  },
  {
   "cell_type": "code",
   "execution_count": 15,
   "id": "97ea7e89",
   "metadata": {
    "execution": {
     "iopub.execute_input": "2023-12-06T18:57:09.262379Z",
     "iopub.status.busy": "2023-12-06T18:57:09.261766Z",
     "iopub.status.idle": "2023-12-06T18:57:09.268138Z",
     "shell.execute_reply": "2023-12-06T18:57:09.267151Z"
    },
    "papermill": {
     "duration": 0.022027,
     "end_time": "2023-12-06T18:57:09.270197",
     "exception": false,
     "start_time": "2023-12-06T18:57:09.248170",
     "status": "completed"
    },
    "tags": []
   },
   "outputs": [],
   "source": [
    "def feature_creation(dataframe:pd.DataFrame, feature:str='text')->pd.DataFrame:\n",
    "    dataframe[f'{feature}_word_cnt']=dataframe[feature].apply(lambda x:len(x.split(' ')))\n",
    "    dataframe[f'{feature}_char_len']=dataframe[feature].apply(lambda x:len(x))\n",
    "    dataframe[f'{feature}_stopwords_cnt']=dataframe[feature].apply(lambda x:count_stopwords(x))\n",
    "    dataframe[f'{feature}_punctuation_cnt']=dataframe[feature].apply(lambda x:count_punctuation(x))\n",
    "    dataframe[f'{feature}_number_cnt']=dataframe[feature].apply(lambda x:count_numbers(x))\n",
    "    return dataframe"
   ]
  },
  {
   "cell_type": "code",
   "execution_count": 16,
   "id": "c73be523",
   "metadata": {
    "execution": {
     "iopub.execute_input": "2023-12-06T18:57:09.294145Z",
     "iopub.status.busy": "2023-12-06T18:57:09.293602Z",
     "iopub.status.idle": "2023-12-06T18:57:10.428073Z",
     "shell.execute_reply": "2023-12-06T18:57:10.427244Z"
    },
    "papermill": {
     "duration": 1.149183,
     "end_time": "2023-12-06T18:57:10.430800",
     "exception": false,
     "start_time": "2023-12-06T18:57:09.281617",
     "status": "completed"
    },
    "tags": []
   },
   "outputs": [
    {
     "name": "stdout",
     "output_type": "stream",
     "text": [
      "PREPROCESSED DATASET SHAPE (7165, 13)\n"
     ]
    }
   ],
   "source": [
    "preprocessed_df=feature_creation(df_train)\n",
    "print('PREPROCESSED DATASET SHAPE {}'.format(preprocessed_df.shape))"
   ]
  },
  {
   "cell_type": "code",
   "execution_count": 17,
   "id": "f8f35b3e",
   "metadata": {
    "execution": {
     "iopub.execute_input": "2023-12-06T18:57:10.455318Z",
     "iopub.status.busy": "2023-12-06T18:57:10.454908Z",
     "iopub.status.idle": "2023-12-06T18:57:10.469575Z",
     "shell.execute_reply": "2023-12-06T18:57:10.468548Z"
    },
    "papermill": {
     "duration": 0.029084,
     "end_time": "2023-12-06T18:57:10.471661",
     "exception": false,
     "start_time": "2023-12-06T18:57:10.442577",
     "status": "completed"
    },
    "tags": []
   },
   "outputs": [
    {
     "data": {
      "text/html": [
       "<div>\n",
       "<style scoped>\n",
       "    .dataframe tbody tr th:only-of-type {\n",
       "        vertical-align: middle;\n",
       "    }\n",
       "\n",
       "    .dataframe tbody tr th {\n",
       "        vertical-align: top;\n",
       "    }\n",
       "\n",
       "    .dataframe thead th {\n",
       "        text-align: right;\n",
       "    }\n",
       "</style>\n",
       "<table border=\"1\" class=\"dataframe\">\n",
       "  <thead>\n",
       "    <tr style=\"text-align: right;\">\n",
       "      <th></th>\n",
       "      <th>student_id</th>\n",
       "      <th>prompt_id</th>\n",
       "      <th>text</th>\n",
       "      <th>content</th>\n",
       "      <th>wording</th>\n",
       "      <th>prompt_question</th>\n",
       "      <th>prompt_title</th>\n",
       "      <th>prompt_text</th>\n",
       "      <th>text_word_cnt</th>\n",
       "      <th>text_char_len</th>\n",
       "      <th>text_stopwords_cnt</th>\n",
       "      <th>text_punctuation_cnt</th>\n",
       "      <th>text_number_cnt</th>\n",
       "    </tr>\n",
       "  </thead>\n",
       "  <tbody>\n",
       "    <tr>\n",
       "      <th>0</th>\n",
       "      <td>000e8c3c7ddb</td>\n",
       "      <td>814d6b</td>\n",
       "      <td>The third wave was an experimentto see how peo...</td>\n",
       "      <td>0.205683</td>\n",
       "      <td>0.380538</td>\n",
       "      <td>Summarize how the Third Wave developed over su...</td>\n",
       "      <td>The Third Wave</td>\n",
       "      <td>Background \\r\\nThe Third Wave experiment took ...</td>\n",
       "      <td>61</td>\n",
       "      <td>346</td>\n",
       "      <td>25</td>\n",
       "      <td>3</td>\n",
       "      <td>0</td>\n",
       "    </tr>\n",
       "    <tr>\n",
       "      <th>1</th>\n",
       "      <td>0070c9e7af47</td>\n",
       "      <td>814d6b</td>\n",
       "      <td>The Third Wave developed  rapidly because the ...</td>\n",
       "      <td>3.272894</td>\n",
       "      <td>3.219757</td>\n",
       "      <td>Summarize how the Third Wave developed over su...</td>\n",
       "      <td>The Third Wave</td>\n",
       "      <td>Background \\r\\nThe Third Wave experiment took ...</td>\n",
       "      <td>206</td>\n",
       "      <td>1225</td>\n",
       "      <td>92</td>\n",
       "      <td>30</td>\n",
       "      <td>8</td>\n",
       "    </tr>\n",
       "    <tr>\n",
       "      <th>2</th>\n",
       "      <td>0095993991fe</td>\n",
       "      <td>814d6b</td>\n",
       "      <td>The third wave only started as an experiment w...</td>\n",
       "      <td>0.205683</td>\n",
       "      <td>0.380538</td>\n",
       "      <td>Summarize how the Third Wave developed over su...</td>\n",
       "      <td>The Third Wave</td>\n",
       "      <td>Background \\r\\nThe Third Wave experiment took ...</td>\n",
       "      <td>60</td>\n",
       "      <td>345</td>\n",
       "      <td>27</td>\n",
       "      <td>9</td>\n",
       "      <td>0</td>\n",
       "    </tr>\n",
       "    <tr>\n",
       "      <th>3</th>\n",
       "      <td>00c20c6ddd23</td>\n",
       "      <td>814d6b</td>\n",
       "      <td>The experimen was orginally about how even whe...</td>\n",
       "      <td>0.567975</td>\n",
       "      <td>0.969062</td>\n",
       "      <td>Summarize how the Third Wave developed over su...</td>\n",
       "      <td>The Third Wave</td>\n",
       "      <td>Background \\r\\nThe Third Wave experiment took ...</td>\n",
       "      <td>76</td>\n",
       "      <td>451</td>\n",
       "      <td>35</td>\n",
       "      <td>10</td>\n",
       "      <td>0</td>\n",
       "    </tr>\n",
       "    <tr>\n",
       "      <th>4</th>\n",
       "      <td>00d40ad10dc9</td>\n",
       "      <td>814d6b</td>\n",
       "      <td>The third wave developed so quickly due to the...</td>\n",
       "      <td>-0.910596</td>\n",
       "      <td>-0.081769</td>\n",
       "      <td>Summarize how the Third Wave developed over su...</td>\n",
       "      <td>The Third Wave</td>\n",
       "      <td>Background \\r\\nThe Third Wave experiment took ...</td>\n",
       "      <td>27</td>\n",
       "      <td>145</td>\n",
       "      <td>12</td>\n",
       "      <td>2</td>\n",
       "      <td>0</td>\n",
       "    </tr>\n",
       "  </tbody>\n",
       "</table>\n",
       "</div>"
      ],
      "text/plain": [
       "     student_id prompt_id                                               text  \\\n",
       "0  000e8c3c7ddb    814d6b  The third wave was an experimentto see how peo...   \n",
       "1  0070c9e7af47    814d6b  The Third Wave developed  rapidly because the ...   \n",
       "2  0095993991fe    814d6b  The third wave only started as an experiment w...   \n",
       "3  00c20c6ddd23    814d6b  The experimen was orginally about how even whe...   \n",
       "4  00d40ad10dc9    814d6b  The third wave developed so quickly due to the...   \n",
       "\n",
       "    content   wording                                    prompt_question  \\\n",
       "0  0.205683  0.380538  Summarize how the Third Wave developed over su...   \n",
       "1  3.272894  3.219757  Summarize how the Third Wave developed over su...   \n",
       "2  0.205683  0.380538  Summarize how the Third Wave developed over su...   \n",
       "3  0.567975  0.969062  Summarize how the Third Wave developed over su...   \n",
       "4 -0.910596 -0.081769  Summarize how the Third Wave developed over su...   \n",
       "\n",
       "     prompt_title                                        prompt_text  \\\n",
       "0  The Third Wave  Background \\r\\nThe Third Wave experiment took ...   \n",
       "1  The Third Wave  Background \\r\\nThe Third Wave experiment took ...   \n",
       "2  The Third Wave  Background \\r\\nThe Third Wave experiment took ...   \n",
       "3  The Third Wave  Background \\r\\nThe Third Wave experiment took ...   \n",
       "4  The Third Wave  Background \\r\\nThe Third Wave experiment took ...   \n",
       "\n",
       "   text_word_cnt  text_char_len  text_stopwords_cnt  text_punctuation_cnt  \\\n",
       "0             61            346                  25                     3   \n",
       "1            206           1225                  92                    30   \n",
       "2             60            345                  27                     9   \n",
       "3             76            451                  35                    10   \n",
       "4             27            145                  12                     2   \n",
       "\n",
       "   text_number_cnt  \n",
       "0                0  \n",
       "1                8  \n",
       "2                0  \n",
       "3                0  \n",
       "4                0  "
      ]
     },
     "execution_count": 17,
     "metadata": {},
     "output_type": "execute_result"
    }
   ],
   "source": [
    "preprocessed_df.head()"
   ]
  },
  {
   "cell_type": "code",
   "execution_count": 18,
   "id": "07986075",
   "metadata": {
    "execution": {
     "iopub.execute_input": "2023-12-06T18:57:10.497160Z",
     "iopub.status.busy": "2023-12-06T18:57:10.496573Z",
     "iopub.status.idle": "2023-12-06T18:57:10.521003Z",
     "shell.execute_reply": "2023-12-06T18:57:10.520398Z"
    },
    "papermill": {
     "duration": 0.039377,
     "end_time": "2023-12-06T18:57:10.522712",
     "exception": false,
     "start_time": "2023-12-06T18:57:10.483335",
     "status": "completed"
    },
    "tags": []
   },
   "outputs": [
    {
     "data": {
      "text/html": [
       "<div>\n",
       "<style scoped>\n",
       "    .dataframe tbody tr th:only-of-type {\n",
       "        vertical-align: middle;\n",
       "    }\n",
       "\n",
       "    .dataframe tbody tr th {\n",
       "        vertical-align: top;\n",
       "    }\n",
       "\n",
       "    .dataframe thead th {\n",
       "        text-align: right;\n",
       "    }\n",
       "</style>\n",
       "<table border=\"1\" class=\"dataframe\">\n",
       "  <thead>\n",
       "    <tr style=\"text-align: right;\">\n",
       "      <th></th>\n",
       "      <th>content</th>\n",
       "      <th>wording</th>\n",
       "      <th>text_word_cnt</th>\n",
       "      <th>text_char_len</th>\n",
       "      <th>text_stopwords_cnt</th>\n",
       "      <th>text_punctuation_cnt</th>\n",
       "      <th>text_number_cnt</th>\n",
       "    </tr>\n",
       "  </thead>\n",
       "  <tbody>\n",
       "    <tr>\n",
       "      <th>count</th>\n",
       "      <td>7165.000000</td>\n",
       "      <td>7165.000000</td>\n",
       "      <td>7165.000000</td>\n",
       "      <td>7165.000000</td>\n",
       "      <td>7165.000000</td>\n",
       "      <td>7165.000000</td>\n",
       "      <td>7165.000000</td>\n",
       "    </tr>\n",
       "    <tr>\n",
       "      <th>mean</th>\n",
       "      <td>-0.014853</td>\n",
       "      <td>-0.063072</td>\n",
       "      <td>76.155618</td>\n",
       "      <td>418.776971</td>\n",
       "      <td>36.306769</td>\n",
       "      <td>9.355059</td>\n",
       "      <td>0.508304</td>\n",
       "    </tr>\n",
       "    <tr>\n",
       "      <th>std</th>\n",
       "      <td>1.043569</td>\n",
       "      <td>1.036048</td>\n",
       "      <td>54.538587</td>\n",
       "      <td>307.833685</td>\n",
       "      <td>25.813092</td>\n",
       "      <td>9.474397</td>\n",
       "      <td>1.351776</td>\n",
       "    </tr>\n",
       "    <tr>\n",
       "      <th>min</th>\n",
       "      <td>-1.729859</td>\n",
       "      <td>-1.962614</td>\n",
       "      <td>22.000000</td>\n",
       "      <td>114.000000</td>\n",
       "      <td>5.000000</td>\n",
       "      <td>0.000000</td>\n",
       "      <td>0.000000</td>\n",
       "    </tr>\n",
       "    <tr>\n",
       "      <th>25%</th>\n",
       "      <td>-0.799545</td>\n",
       "      <td>-0.872720</td>\n",
       "      <td>40.000000</td>\n",
       "      <td>216.000000</td>\n",
       "      <td>19.000000</td>\n",
       "      <td>4.000000</td>\n",
       "      <td>0.000000</td>\n",
       "    </tr>\n",
       "    <tr>\n",
       "      <th>50%</th>\n",
       "      <td>-0.093814</td>\n",
       "      <td>-0.081769</td>\n",
       "      <td>59.000000</td>\n",
       "      <td>320.000000</td>\n",
       "      <td>28.000000</td>\n",
       "      <td>6.000000</td>\n",
       "      <td>0.000000</td>\n",
       "    </tr>\n",
       "    <tr>\n",
       "      <th>75%</th>\n",
       "      <td>0.499660</td>\n",
       "      <td>0.503833</td>\n",
       "      <td>93.000000</td>\n",
       "      <td>513.000000</td>\n",
       "      <td>45.000000</td>\n",
       "      <td>12.000000</td>\n",
       "      <td>0.000000</td>\n",
       "    </tr>\n",
       "    <tr>\n",
       "      <th>max</th>\n",
       "      <td>3.900326</td>\n",
       "      <td>4.310693</td>\n",
       "      <td>651.000000</td>\n",
       "      <td>3940.000000</td>\n",
       "      <td>315.000000</td>\n",
       "      <td>162.000000</td>\n",
       "      <td>19.000000</td>\n",
       "    </tr>\n",
       "  </tbody>\n",
       "</table>\n",
       "</div>"
      ],
      "text/plain": [
       "           content      wording  text_word_cnt  text_char_len  \\\n",
       "count  7165.000000  7165.000000    7165.000000    7165.000000   \n",
       "mean     -0.014853    -0.063072      76.155618     418.776971   \n",
       "std       1.043569     1.036048      54.538587     307.833685   \n",
       "min      -1.729859    -1.962614      22.000000     114.000000   \n",
       "25%      -0.799545    -0.872720      40.000000     216.000000   \n",
       "50%      -0.093814    -0.081769      59.000000     320.000000   \n",
       "75%       0.499660     0.503833      93.000000     513.000000   \n",
       "max       3.900326     4.310693     651.000000    3940.000000   \n",
       "\n",
       "       text_stopwords_cnt  text_punctuation_cnt  text_number_cnt  \n",
       "count         7165.000000           7165.000000      7165.000000  \n",
       "mean            36.306769              9.355059         0.508304  \n",
       "std             25.813092              9.474397         1.351776  \n",
       "min              5.000000              0.000000         0.000000  \n",
       "25%             19.000000              4.000000         0.000000  \n",
       "50%             28.000000              6.000000         0.000000  \n",
       "75%             45.000000             12.000000         0.000000  \n",
       "max            315.000000            162.000000        19.000000  "
      ]
     },
     "execution_count": 18,
     "metadata": {},
     "output_type": "execute_result"
    }
   ],
   "source": [
    "preprocessed_df.describe()"
   ]
  },
  {
   "cell_type": "markdown",
   "id": "7360a27a",
   "metadata": {
    "papermill": {
     "duration": 0.010972,
     "end_time": "2023-12-06T18:57:10.545347",
     "exception": false,
     "start_time": "2023-12-06T18:57:10.534375",
     "status": "completed"
    },
    "tags": []
   },
   "source": [
    "**EXTRACT FEATURE COLUMNS**"
   ]
  },
  {
   "cell_type": "code",
   "execution_count": 19,
   "id": "46d518dc",
   "metadata": {
    "execution": {
     "iopub.execute_input": "2023-12-06T18:57:10.569937Z",
     "iopub.status.busy": "2023-12-06T18:57:10.569384Z",
     "iopub.status.idle": "2023-12-06T18:57:10.574593Z",
     "shell.execute_reply": "2023-12-06T18:57:10.573660Z"
    },
    "papermill": {
     "duration": 0.020044,
     "end_time": "2023-12-06T18:57:10.576532",
     "exception": false,
     "start_time": "2023-12-06T18:57:10.556488",
     "status": "completed"
    },
    "tags": []
   },
   "outputs": [],
   "source": [
    "feature_columns=preprocessed_df.drop(columns=['student_id','prompt_id','text','content','wording','prompt_question','prompt_title','prompt_text'],axis=1).columns.to_list()"
   ]
  },
  {
   "cell_type": "code",
   "execution_count": 20,
   "id": "7606e8e9",
   "metadata": {
    "execution": {
     "iopub.execute_input": "2023-12-06T18:57:10.600768Z",
     "iopub.status.busy": "2023-12-06T18:57:10.600196Z",
     "iopub.status.idle": "2023-12-06T18:57:10.604932Z",
     "shell.execute_reply": "2023-12-06T18:57:10.604343Z"
    },
    "papermill": {
     "duration": 0.018729,
     "end_time": "2023-12-06T18:57:10.606455",
     "exception": false,
     "start_time": "2023-12-06T18:57:10.587726",
     "status": "completed"
    },
    "tags": []
   },
   "outputs": [
    {
     "data": {
      "text/plain": [
       "['text_word_cnt',\n",
       " 'text_char_len',\n",
       " 'text_stopwords_cnt',\n",
       " 'text_punctuation_cnt',\n",
       " 'text_number_cnt']"
      ]
     },
     "execution_count": 20,
     "metadata": {},
     "output_type": "execute_result"
    }
   ],
   "source": [
    "feature_columns"
   ]
  },
  {
   "cell_type": "markdown",
   "id": "812ef04f",
   "metadata": {
    "papermill": {
     "duration": 0.01123,
     "end_time": "2023-12-06T18:57:10.629061",
     "exception": false,
     "start_time": "2023-12-06T18:57:10.617831",
     "status": "completed"
    },
    "tags": []
   },
   "source": [
    "**SPLITTING DATASET**"
   ]
  },
  {
   "cell_type": "code",
   "execution_count": 21,
   "id": "3e75a1b0",
   "metadata": {
    "execution": {
     "iopub.execute_input": "2023-12-06T18:57:10.653676Z",
     "iopub.status.busy": "2023-12-06T18:57:10.653126Z",
     "iopub.status.idle": "2023-12-06T18:57:10.661741Z",
     "shell.execute_reply": "2023-12-06T18:57:10.660435Z"
    },
    "papermill": {
     "duration": 0.02331,
     "end_time": "2023-12-06T18:57:10.663568",
     "exception": false,
     "start_time": "2023-12-06T18:57:10.640258",
     "status": "completed"
    },
    "tags": []
   },
   "outputs": [
    {
     "data": {
      "text/plain": [
       "((5771, 13), (1394, 13))"
      ]
     },
     "execution_count": 21,
     "metadata": {},
     "output_type": "execute_result"
    }
   ],
   "source": [
    "def split_dataset(dataset, ratio=.2):\n",
    "    test_set=np.random.rand(len(dataset))<ratio\n",
    "    return dataset[~test_set],dataset[test_set]\n",
    "\n",
    "train_set,test_set=split_dataset(preprocessed_df)\n",
    "train_set.shape,test_set.shape"
   ]
  },
  {
   "cell_type": "code",
   "execution_count": 22,
   "id": "310bfcac",
   "metadata": {
    "execution": {
     "iopub.execute_input": "2023-12-06T18:57:10.688728Z",
     "iopub.status.busy": "2023-12-06T18:57:10.688195Z",
     "iopub.status.idle": "2023-12-06T18:57:10.702624Z",
     "shell.execute_reply": "2023-12-06T18:57:10.701727Z"
    },
    "papermill": {
     "duration": 0.029417,
     "end_time": "2023-12-06T18:57:10.704894",
     "exception": false,
     "start_time": "2023-12-06T18:57:10.675477",
     "status": "completed"
    },
    "tags": []
   },
   "outputs": [
    {
     "data": {
      "text/html": [
       "<div>\n",
       "<style scoped>\n",
       "    .dataframe tbody tr th:only-of-type {\n",
       "        vertical-align: middle;\n",
       "    }\n",
       "\n",
       "    .dataframe tbody tr th {\n",
       "        vertical-align: top;\n",
       "    }\n",
       "\n",
       "    .dataframe thead th {\n",
       "        text-align: right;\n",
       "    }\n",
       "</style>\n",
       "<table border=\"1\" class=\"dataframe\">\n",
       "  <thead>\n",
       "    <tr style=\"text-align: right;\">\n",
       "      <th></th>\n",
       "      <th>student_id</th>\n",
       "      <th>prompt_id</th>\n",
       "      <th>text</th>\n",
       "      <th>content</th>\n",
       "      <th>wording</th>\n",
       "      <th>prompt_question</th>\n",
       "      <th>prompt_title</th>\n",
       "      <th>prompt_text</th>\n",
       "      <th>text_word_cnt</th>\n",
       "      <th>text_char_len</th>\n",
       "      <th>text_stopwords_cnt</th>\n",
       "      <th>text_punctuation_cnt</th>\n",
       "      <th>text_number_cnt</th>\n",
       "    </tr>\n",
       "  </thead>\n",
       "  <tbody>\n",
       "    <tr>\n",
       "      <th>1</th>\n",
       "      <td>0070c9e7af47</td>\n",
       "      <td>814d6b</td>\n",
       "      <td>The Third Wave developed  rapidly because the ...</td>\n",
       "      <td>3.272894</td>\n",
       "      <td>3.219757</td>\n",
       "      <td>Summarize how the Third Wave developed over su...</td>\n",
       "      <td>The Third Wave</td>\n",
       "      <td>Background \\r\\nThe Third Wave experiment took ...</td>\n",
       "      <td>206</td>\n",
       "      <td>1225</td>\n",
       "      <td>92</td>\n",
       "      <td>30</td>\n",
       "      <td>8</td>\n",
       "    </tr>\n",
       "    <tr>\n",
       "      <th>2</th>\n",
       "      <td>0095993991fe</td>\n",
       "      <td>814d6b</td>\n",
       "      <td>The third wave only started as an experiment w...</td>\n",
       "      <td>0.205683</td>\n",
       "      <td>0.380538</td>\n",
       "      <td>Summarize how the Third Wave developed over su...</td>\n",
       "      <td>The Third Wave</td>\n",
       "      <td>Background \\r\\nThe Third Wave experiment took ...</td>\n",
       "      <td>60</td>\n",
       "      <td>345</td>\n",
       "      <td>27</td>\n",
       "      <td>9</td>\n",
       "      <td>0</td>\n",
       "    </tr>\n",
       "    <tr>\n",
       "      <th>4</th>\n",
       "      <td>00d40ad10dc9</td>\n",
       "      <td>814d6b</td>\n",
       "      <td>The third wave developed so quickly due to the...</td>\n",
       "      <td>-0.910596</td>\n",
       "      <td>-0.081769</td>\n",
       "      <td>Summarize how the Third Wave developed over su...</td>\n",
       "      <td>The Third Wave</td>\n",
       "      <td>Background \\r\\nThe Third Wave experiment took ...</td>\n",
       "      <td>27</td>\n",
       "      <td>145</td>\n",
       "      <td>12</td>\n",
       "      <td>2</td>\n",
       "      <td>0</td>\n",
       "    </tr>\n",
       "    <tr>\n",
       "      <th>5</th>\n",
       "      <td>014e2395b3c4</td>\n",
       "      <td>814d6b</td>\n",
       "      <td>The Thrid Wave movement in the school has more...</td>\n",
       "      <td>1.376083</td>\n",
       "      <td>2.389443</td>\n",
       "      <td>Summarize how the Third Wave developed over su...</td>\n",
       "      <td>The Third Wave</td>\n",
       "      <td>Background \\r\\nThe Third Wave experiment took ...</td>\n",
       "      <td>126</td>\n",
       "      <td>734</td>\n",
       "      <td>67</td>\n",
       "      <td>7</td>\n",
       "      <td>0</td>\n",
       "    </tr>\n",
       "    <tr>\n",
       "      <th>6</th>\n",
       "      <td>01d303ea2f62</td>\n",
       "      <td>814d6b</td>\n",
       "      <td>The Third Wave developed and spead over such a...</td>\n",
       "      <td>0.735204</td>\n",
       "      <td>2.346576</td>\n",
       "      <td>Summarize how the Third Wave developed over su...</td>\n",
       "      <td>The Third Wave</td>\n",
       "      <td>Background \\r\\nThe Third Wave experiment took ...</td>\n",
       "      <td>133</td>\n",
       "      <td>767</td>\n",
       "      <td>68</td>\n",
       "      <td>16</td>\n",
       "      <td>0</td>\n",
       "    </tr>\n",
       "  </tbody>\n",
       "</table>\n",
       "</div>"
      ],
      "text/plain": [
       "     student_id prompt_id                                               text  \\\n",
       "1  0070c9e7af47    814d6b  The Third Wave developed  rapidly because the ...   \n",
       "2  0095993991fe    814d6b  The third wave only started as an experiment w...   \n",
       "4  00d40ad10dc9    814d6b  The third wave developed so quickly due to the...   \n",
       "5  014e2395b3c4    814d6b  The Thrid Wave movement in the school has more...   \n",
       "6  01d303ea2f62    814d6b  The Third Wave developed and spead over such a...   \n",
       "\n",
       "    content   wording                                    prompt_question  \\\n",
       "1  3.272894  3.219757  Summarize how the Third Wave developed over su...   \n",
       "2  0.205683  0.380538  Summarize how the Third Wave developed over su...   \n",
       "4 -0.910596 -0.081769  Summarize how the Third Wave developed over su...   \n",
       "5  1.376083  2.389443  Summarize how the Third Wave developed over su...   \n",
       "6  0.735204  2.346576  Summarize how the Third Wave developed over su...   \n",
       "\n",
       "     prompt_title                                        prompt_text  \\\n",
       "1  The Third Wave  Background \\r\\nThe Third Wave experiment took ...   \n",
       "2  The Third Wave  Background \\r\\nThe Third Wave experiment took ...   \n",
       "4  The Third Wave  Background \\r\\nThe Third Wave experiment took ...   \n",
       "5  The Third Wave  Background \\r\\nThe Third Wave experiment took ...   \n",
       "6  The Third Wave  Background \\r\\nThe Third Wave experiment took ...   \n",
       "\n",
       "   text_word_cnt  text_char_len  text_stopwords_cnt  text_punctuation_cnt  \\\n",
       "1            206           1225                  92                    30   \n",
       "2             60            345                  27                     9   \n",
       "4             27            145                  12                     2   \n",
       "5            126            734                  67                     7   \n",
       "6            133            767                  68                    16   \n",
       "\n",
       "   text_number_cnt  \n",
       "1                8  \n",
       "2                0  \n",
       "4                0  \n",
       "5                0  \n",
       "6                0  "
      ]
     },
     "execution_count": 22,
     "metadata": {},
     "output_type": "execute_result"
    }
   ],
   "source": [
    "train_set.head()"
   ]
  },
  {
   "cell_type": "code",
   "execution_count": 23,
   "id": "6e3bd3d7",
   "metadata": {
    "execution": {
     "iopub.execute_input": "2023-12-06T18:57:10.730878Z",
     "iopub.status.busy": "2023-12-06T18:57:10.730535Z",
     "iopub.status.idle": "2023-12-06T18:57:10.744464Z",
     "shell.execute_reply": "2023-12-06T18:57:10.743559Z"
    },
    "papermill": {
     "duration": 0.028615,
     "end_time": "2023-12-06T18:57:10.746091",
     "exception": false,
     "start_time": "2023-12-06T18:57:10.717476",
     "status": "completed"
    },
    "tags": []
   },
   "outputs": [
    {
     "data": {
      "text/html": [
       "<div>\n",
       "<style scoped>\n",
       "    .dataframe tbody tr th:only-of-type {\n",
       "        vertical-align: middle;\n",
       "    }\n",
       "\n",
       "    .dataframe tbody tr th {\n",
       "        vertical-align: top;\n",
       "    }\n",
       "\n",
       "    .dataframe thead th {\n",
       "        text-align: right;\n",
       "    }\n",
       "</style>\n",
       "<table border=\"1\" class=\"dataframe\">\n",
       "  <thead>\n",
       "    <tr style=\"text-align: right;\">\n",
       "      <th></th>\n",
       "      <th>student_id</th>\n",
       "      <th>prompt_id</th>\n",
       "      <th>text</th>\n",
       "      <th>content</th>\n",
       "      <th>wording</th>\n",
       "      <th>prompt_question</th>\n",
       "      <th>prompt_title</th>\n",
       "      <th>prompt_text</th>\n",
       "      <th>text_word_cnt</th>\n",
       "      <th>text_char_len</th>\n",
       "      <th>text_stopwords_cnt</th>\n",
       "      <th>text_punctuation_cnt</th>\n",
       "      <th>text_number_cnt</th>\n",
       "    </tr>\n",
       "  </thead>\n",
       "  <tbody>\n",
       "    <tr>\n",
       "      <th>0</th>\n",
       "      <td>000e8c3c7ddb</td>\n",
       "      <td>814d6b</td>\n",
       "      <td>The third wave was an experimentto see how peo...</td>\n",
       "      <td>0.205683</td>\n",
       "      <td>0.380538</td>\n",
       "      <td>Summarize how the Third Wave developed over su...</td>\n",
       "      <td>The Third Wave</td>\n",
       "      <td>Background \\r\\nThe Third Wave experiment took ...</td>\n",
       "      <td>61</td>\n",
       "      <td>346</td>\n",
       "      <td>25</td>\n",
       "      <td>3</td>\n",
       "      <td>0</td>\n",
       "    </tr>\n",
       "    <tr>\n",
       "      <th>3</th>\n",
       "      <td>00c20c6ddd23</td>\n",
       "      <td>814d6b</td>\n",
       "      <td>The experimen was orginally about how even whe...</td>\n",
       "      <td>0.567975</td>\n",
       "      <td>0.969062</td>\n",
       "      <td>Summarize how the Third Wave developed over su...</td>\n",
       "      <td>The Third Wave</td>\n",
       "      <td>Background \\r\\nThe Third Wave experiment took ...</td>\n",
       "      <td>76</td>\n",
       "      <td>451</td>\n",
       "      <td>35</td>\n",
       "      <td>10</td>\n",
       "      <td>0</td>\n",
       "    </tr>\n",
       "    <tr>\n",
       "      <th>15</th>\n",
       "      <td>04f254a57c9b</td>\n",
       "      <td>814d6b</td>\n",
       "      <td>The Third Wave developed over such a short tim...</td>\n",
       "      <td>0.205683</td>\n",
       "      <td>0.380538</td>\n",
       "      <td>Summarize how the Third Wave developed over su...</td>\n",
       "      <td>The Third Wave</td>\n",
       "      <td>Background \\r\\nThe Third Wave experiment took ...</td>\n",
       "      <td>66</td>\n",
       "      <td>375</td>\n",
       "      <td>33</td>\n",
       "      <td>4</td>\n",
       "      <td>0</td>\n",
       "    </tr>\n",
       "    <tr>\n",
       "      <th>17</th>\n",
       "      <td>051d3805555d</td>\n",
       "      <td>814d6b</td>\n",
       "      <td>It developed very fast bcause students became ...</td>\n",
       "      <td>-1.125231</td>\n",
       "      <td>-0.537431</td>\n",
       "      <td>Summarize how the Third Wave developed over su...</td>\n",
       "      <td>The Third Wave</td>\n",
       "      <td>Background \\r\\nThe Third Wave experiment took ...</td>\n",
       "      <td>30</td>\n",
       "      <td>169</td>\n",
       "      <td>14</td>\n",
       "      <td>2</td>\n",
       "      <td>0</td>\n",
       "    </tr>\n",
       "    <tr>\n",
       "      <th>21</th>\n",
       "      <td>05baff881d31</td>\n",
       "      <td>814d6b</td>\n",
       "      <td>It spread over a short period of time becuase ...</td>\n",
       "      <td>-0.393310</td>\n",
       "      <td>0.627128</td>\n",
       "      <td>Summarize how the Third Wave developed over su...</td>\n",
       "      <td>The Third Wave</td>\n",
       "      <td>Background \\r\\nThe Third Wave experiment took ...</td>\n",
       "      <td>35</td>\n",
       "      <td>169</td>\n",
       "      <td>17</td>\n",
       "      <td>1</td>\n",
       "      <td>0</td>\n",
       "    </tr>\n",
       "  </tbody>\n",
       "</table>\n",
       "</div>"
      ],
      "text/plain": [
       "      student_id prompt_id                                               text  \\\n",
       "0   000e8c3c7ddb    814d6b  The third wave was an experimentto see how peo...   \n",
       "3   00c20c6ddd23    814d6b  The experimen was orginally about how even whe...   \n",
       "15  04f254a57c9b    814d6b  The Third Wave developed over such a short tim...   \n",
       "17  051d3805555d    814d6b  It developed very fast bcause students became ...   \n",
       "21  05baff881d31    814d6b  It spread over a short period of time becuase ...   \n",
       "\n",
       "     content   wording                                    prompt_question  \\\n",
       "0   0.205683  0.380538  Summarize how the Third Wave developed over su...   \n",
       "3   0.567975  0.969062  Summarize how the Third Wave developed over su...   \n",
       "15  0.205683  0.380538  Summarize how the Third Wave developed over su...   \n",
       "17 -1.125231 -0.537431  Summarize how the Third Wave developed over su...   \n",
       "21 -0.393310  0.627128  Summarize how the Third Wave developed over su...   \n",
       "\n",
       "      prompt_title                                        prompt_text  \\\n",
       "0   The Third Wave  Background \\r\\nThe Third Wave experiment took ...   \n",
       "3   The Third Wave  Background \\r\\nThe Third Wave experiment took ...   \n",
       "15  The Third Wave  Background \\r\\nThe Third Wave experiment took ...   \n",
       "17  The Third Wave  Background \\r\\nThe Third Wave experiment took ...   \n",
       "21  The Third Wave  Background \\r\\nThe Third Wave experiment took ...   \n",
       "\n",
       "    text_word_cnt  text_char_len  text_stopwords_cnt  text_punctuation_cnt  \\\n",
       "0              61            346                  25                     3   \n",
       "3              76            451                  35                    10   \n",
       "15             66            375                  33                     4   \n",
       "17             30            169                  14                     2   \n",
       "21             35            169                  17                     1   \n",
       "\n",
       "    text_number_cnt  \n",
       "0                 0  \n",
       "3                 0  \n",
       "15                0  \n",
       "17                0  \n",
       "21                0  "
      ]
     },
     "execution_count": 23,
     "metadata": {},
     "output_type": "execute_result"
    }
   ],
   "source": [
    "test_set.head()"
   ]
  },
  {
   "cell_type": "markdown",
   "id": "e0de37f7",
   "metadata": {
    "papermill": {
     "duration": 0.012373,
     "end_time": "2023-12-06T18:57:10.772002",
     "exception": false,
     "start_time": "2023-12-06T18:57:10.759629",
     "status": "completed"
    },
    "tags": []
   },
   "source": [
    "**CONVERTING FROM PANDAS DATAFRAME TO TENSORFLOW**"
   ]
  },
  {
   "cell_type": "code",
   "execution_count": 24,
   "id": "e6d92e16",
   "metadata": {
    "execution": {
     "iopub.execute_input": "2023-12-06T18:57:10.799453Z",
     "iopub.status.busy": "2023-12-06T18:57:10.798487Z",
     "iopub.status.idle": "2023-12-06T18:57:10.891656Z",
     "shell.execute_reply": "2023-12-06T18:57:10.890979Z"
    },
    "papermill": {
     "duration": 0.109019,
     "end_time": "2023-12-06T18:57:10.893671",
     "exception": false,
     "start_time": "2023-12-06T18:57:10.784652",
     "status": "completed"
    },
    "tags": []
   },
   "outputs": [],
   "source": [
    "feature_content=feature_columns + ['content']\n",
    "feature_wording=feature_columns + ['wording']\n",
    "content_train=tfdf.keras.pd_dataframe_to_tf_dataset(train_set[feature_content],label='content', task=tfdf.keras.Task.REGRESSION)\n",
    "wording_train=tfdf.keras.pd_dataframe_to_tf_dataset(train_set[feature_wording],label='wording', task = tfdf.keras.Task.REGRESSION)"
   ]
  },
  {
   "cell_type": "markdown",
   "id": "343a1380",
   "metadata": {
    "papermill": {
     "duration": 0.011758,
     "end_time": "2023-12-06T18:57:10.917929",
     "exception": false,
     "start_time": "2023-12-06T18:57:10.906171",
     "status": "completed"
    },
    "tags": []
   },
   "source": [
    "**CREATION OF RANDOM FOREST**"
   ]
  },
  {
   "cell_type": "code",
   "execution_count": 25,
   "id": "5f174ec1",
   "metadata": {
    "execution": {
     "iopub.execute_input": "2023-12-06T18:57:10.943453Z",
     "iopub.status.busy": "2023-12-06T18:57:10.942723Z",
     "iopub.status.idle": "2023-12-06T18:57:11.017818Z",
     "shell.execute_reply": "2023-12-06T18:57:11.016821Z"
    },
    "papermill": {
     "duration": 0.090409,
     "end_time": "2023-12-06T18:57:11.020118",
     "exception": false,
     "start_time": "2023-12-06T18:57:10.929709",
     "status": "completed"
    },
    "tags": []
   },
   "outputs": [
    {
     "name": "stdout",
     "output_type": "stream",
     "text": [
      "Use /tmp/tmpjhhrg6qi as temporary training directory\n",
      "Use /tmp/tmpkgml13fu as temporary training directory\n"
     ]
    }
   ],
   "source": [
    "#randomforest for content\n",
    "model_4_content=tfdf.keras.RandomForestModel(task=tfdf.keras.Task.REGRESSION)\n",
    "model_4_content.compile(metrics=[\"mse\"])\n",
    "#randomforest for wording\n",
    "model_4_wording=tfdf.keras.RandomForestModel(task=tfdf.keras.Task.REGRESSION)\n",
    "model_4_wording.compile(metrics=[\"mse\"])"
   ]
  },
  {
   "cell_type": "markdown",
   "id": "ee93d285",
   "metadata": {
    "papermill": {
     "duration": 0.012017,
     "end_time": "2023-12-06T18:57:11.045328",
     "exception": false,
     "start_time": "2023-12-06T18:57:11.033311",
     "status": "completed"
    },
    "tags": []
   },
   "source": [
    "**TRAINING THE MODEL**"
   ]
  },
  {
   "cell_type": "raw",
   "id": "cc922192",
   "metadata": {
    "papermill": {
     "duration": 0.011962,
     "end_time": "2023-12-06T18:57:11.069728",
     "exception": false,
     "start_time": "2023-12-06T18:57:11.057766",
     "status": "completed"
    },
    "tags": []
   },
   "source": []
  },
  {
   "cell_type": "code",
   "execution_count": 26,
   "id": "2d1d4984",
   "metadata": {
    "execution": {
     "iopub.execute_input": "2023-12-06T18:57:11.096173Z",
     "iopub.status.busy": "2023-12-06T18:57:11.095792Z",
     "iopub.status.idle": "2023-12-06T18:57:24.057536Z",
     "shell.execute_reply": "2023-12-06T18:57:24.056723Z"
    },
    "papermill": {
     "duration": 12.977002,
     "end_time": "2023-12-06T18:57:24.059302",
     "exception": false,
     "start_time": "2023-12-06T18:57:11.082300",
     "status": "completed"
    },
    "tags": []
   },
   "outputs": [
    {
     "name": "stdout",
     "output_type": "stream",
     "text": [
      "Reading training dataset...\n",
      "Training dataset read in 0:00:05.023749. Found 5771 examples.\n",
      "Training model...\n"
     ]
    },
    {
     "name": "stderr",
     "output_type": "stream",
     "text": [
      "[INFO 23-12-06 18:57:17.6620 UTC kernel.cc:1243] Loading model from path /tmp/tmpjhhrg6qi/model/ with prefix 8195d297124148cd\n"
     ]
    },
    {
     "name": "stdout",
     "output_type": "stream",
     "text": [
      "Model trained in 0:00:02.544798\n",
      "Compiling model...\n"
     ]
    },
    {
     "name": "stderr",
     "output_type": "stream",
     "text": [
      "[INFO 23-12-06 18:57:18.5392 UTC decision_forest.cc:660] Model loaded with 300 root(s), 461140 node(s), and 5 input feature(s).\n",
      "[INFO 23-12-06 18:57:18.5393 UTC abstract_model.cc:1311] Engine \"RandomForestOptPred\" built\n",
      "[INFO 23-12-06 18:57:18.5393 UTC kernel.cc:1075] Use fast generic engine\n"
     ]
    },
    {
     "name": "stdout",
     "output_type": "stream",
     "text": [
      "WARNING: AutoGraph could not transform <function simple_ml_inference_op_with_handle at 0x7ef7673a0040> and will run it as-is.\n",
      "Please report this to the TensorFlow team. When filing the bug, set the verbosity to 10 (on Linux, `export AUTOGRAPH_VERBOSITY=10`) and attach the full output.\n",
      "Cause: could not get source code\n",
      "To silence this warning, decorate the function with @tf.autograph.experimental.do_not_convert\n",
      "Model compiled.\n",
      "Reading training dataset...\n",
      "Training dataset read in 0:00:00.171454. Found 5771 examples.\n",
      "Training model...\n"
     ]
    },
    {
     "name": "stderr",
     "output_type": "stream",
     "text": [
      "[INFO 23-12-06 18:57:22.9312 UTC kernel.cc:1243] Loading model from path /tmp/tmpkgml13fu/model/ with prefix 61b55345933640fa\n"
     ]
    },
    {
     "name": "stdout",
     "output_type": "stream",
     "text": [
      "Model trained in 0:00:02.475658\n",
      "Compiling model...\n"
     ]
    },
    {
     "name": "stderr",
     "output_type": "stream",
     "text": [
      "[INFO 23-12-06 18:57:23.7287 UTC decision_forest.cc:660] Model loaded with 300 root(s), 445628 node(s), and 5 input feature(s).\n",
      "[INFO 23-12-06 18:57:23.7289 UTC kernel.cc:1075] Use fast generic engine\n"
     ]
    },
    {
     "name": "stdout",
     "output_type": "stream",
     "text": [
      "Model compiled.\n"
     ]
    },
    {
     "data": {
      "text/plain": [
       "<keras.src.callbacks.History at 0x7ef75c1845e0>"
      ]
     },
     "execution_count": 26,
     "metadata": {},
     "output_type": "execute_result"
    }
   ],
   "source": [
    "model_4_content.fit(x=content_train)\n",
    "model_4_wording.fit(x=wording_train)"
   ]
  },
  {
   "cell_type": "markdown",
   "id": "d5b94233",
   "metadata": {
    "papermill": {
     "duration": 0.0129,
     "end_time": "2023-12-06T18:57:24.086004",
     "exception": false,
     "start_time": "2023-12-06T18:57:24.073104",
     "status": "completed"
    },
    "tags": []
   },
   "source": [
    "**VISUALISING**"
   ]
  },
  {
   "cell_type": "code",
   "execution_count": 27,
   "id": "d48644b1",
   "metadata": {
    "execution": {
     "iopub.execute_input": "2023-12-06T18:57:24.113896Z",
     "iopub.status.busy": "2023-12-06T18:57:24.113393Z",
     "iopub.status.idle": "2023-12-06T18:57:24.152914Z",
     "shell.execute_reply": "2023-12-06T18:57:24.151918Z"
    },
    "papermill": {
     "duration": 0.056751,
     "end_time": "2023-12-06T18:57:24.155734",
     "exception": false,
     "start_time": "2023-12-06T18:57:24.098983",
     "status": "completed"
    },
    "tags": []
   },
   "outputs": [
    {
     "data": {
      "text/html": [
       "\n",
       "<script src=\"https://d3js.org/d3.v6.min.js\"></script>\n",
       "<div id=\"tree_plot_20e5018ffa924513a4427e5600daba70\"></div>\n",
       "<script>\n",
       "/*\n",
       " * Copyright 2021 Google LLC.\n",
       " * Licensed under the Apache License, Version 2.0 (the \"License\");\n",
       " * you may not use this file except in compliance with the License.\n",
       " * You may obtain a copy of the License at\n",
       " *\n",
       " *     https://www.apache.org/licenses/LICENSE-2.0\n",
       " *\n",
       " * Unless required by applicable law or agreed to in writing, software\n",
       " * distributed under the License is distributed on an \"AS IS\" BASIS,\n",
       " * WITHOUT WARRANTIES OR CONDITIONS OF ANY KIND, either express or implied.\n",
       " * See the License for the specific language governing permissions and\n",
       " * limitations under the License.\n",
       " */\n",
       "\n",
       "/**\n",
       " *  Plotting of decision trees generated by TF-DF.\n",
       " *\n",
       " *  A tree is a recursive structure of node objects.\n",
       " *  A node contains one or more of the following components:\n",
       " *\n",
       " *    - A value: Representing the output of the node. If the node is not a leaf,\n",
       " *      the value is only present for analysis i.e. it is not used for\n",
       " *      predictions.\n",
       " *\n",
       " *    - A condition : For non-leaf nodes, the condition (also known as split)\n",
       " *      defines a binary test to branch to the positive or negative child.\n",
       " *\n",
       " *    - An explanation: Generally a plot showing the relation between the label\n",
       " *      and the condition to give insights about the effect of the condition.\n",
       " *\n",
       " *    - Two children : For non-leaf nodes, the children nodes. The first\n",
       " *      children (i.e. \"node.children[0]\") is the negative children (drawn in\n",
       " *      red). The second children is the positive one (drawn in green).\n",
       " *\n",
       " */\n",
       "\n",
       "/**\n",
       " * Plots a single decision tree into a DOM element.\n",
       " * @param {!options} options Dictionary of configurations.\n",
       " * @param {!tree} raw_tree Recursive tree structure.\n",
       " * @param {string} canvas_id Id of the output dom element.\n",
       " */\n",
       "function display_tree(options, raw_tree, canvas_id) {\n",
       "  console.log(options);\n",
       "\n",
       "  // Determine the node placement.\n",
       "  const tree_struct = d3.tree().nodeSize(\n",
       "      [options.node_y_offset, options.node_x_offset])(d3.hierarchy(raw_tree));\n",
       "\n",
       "  // Boundaries of the node placement.\n",
       "  let x_min = Infinity;\n",
       "  let x_max = -x_min;\n",
       "  let y_min = Infinity;\n",
       "  let y_max = -x_min;\n",
       "\n",
       "  tree_struct.each(d => {\n",
       "    if (d.x > x_max) x_max = d.x;\n",
       "    if (d.x < x_min) x_min = d.x;\n",
       "    if (d.y > y_max) y_max = d.y;\n",
       "    if (d.y < y_min) y_min = d.y;\n",
       "  });\n",
       "\n",
       "  // Size of the plot.\n",
       "  const width = y_max - y_min + options.node_x_size + options.margin * 2;\n",
       "  const height = x_max - x_min + options.node_y_size + options.margin * 2 +\n",
       "      options.node_y_offset - options.node_y_size;\n",
       "\n",
       "  const plot = d3.select(canvas_id);\n",
       "\n",
       "  // Tool tip\n",
       "  options.tooltip = plot.append('div')\n",
       "                        .attr('width', 100)\n",
       "                        .attr('height', 100)\n",
       "                        .style('padding', '4px')\n",
       "                        .style('background', '#fff')\n",
       "                        .style('box-shadow', '4px 4px 0px rgba(0,0,0,0.1)')\n",
       "                        .style('border', '1px solid black')\n",
       "                        .style('font-family', 'sans-serif')\n",
       "                        .style('font-size', options.font_size)\n",
       "                        .style('position', 'absolute')\n",
       "                        .style('z-index', '10')\n",
       "                        .attr('pointer-events', 'none')\n",
       "                        .style('display', 'none');\n",
       "\n",
       "  // Create canvas\n",
       "  const svg = plot.append('svg').attr('width', width).attr('height', height);\n",
       "  const graph =\n",
       "      svg.style('overflow', 'visible')\n",
       "          .append('g')\n",
       "          .attr('font-family', 'sans-serif')\n",
       "          .attr('font-size', options.font_size)\n",
       "          .attr(\n",
       "              'transform',\n",
       "              () => `translate(${options.margin},${\n",
       "                  - x_min + options.node_y_offset / 2 + options.margin})`);\n",
       "\n",
       "  // Plot bounding box.\n",
       "  if (options.show_plot_bounding_box) {\n",
       "    svg.append('rect')\n",
       "        .attr('width', width)\n",
       "        .attr('height', height)\n",
       "        .attr('fill', 'none')\n",
       "        .attr('stroke-width', 1.0)\n",
       "        .attr('stroke', 'black');\n",
       "  }\n",
       "\n",
       "  // Draw the edges.\n",
       "  display_edges(options, graph, tree_struct);\n",
       "\n",
       "  // Draw the nodes.\n",
       "  display_nodes(options, graph, tree_struct);\n",
       "}\n",
       "\n",
       "/**\n",
       " * Draw the nodes of the tree.\n",
       " * @param {!options} options Dictionary of configurations.\n",
       " * @param {!graph} graph D3 search handle containing the graph.\n",
       " * @param {!tree_struct} tree_struct Structure of the tree (node placement,\n",
       " *     data, etc.).\n",
       " */\n",
       "function display_nodes(options, graph, tree_struct) {\n",
       "  const nodes = graph.append('g')\n",
       "                    .selectAll('g')\n",
       "                    .data(tree_struct.descendants())\n",
       "                    .join('g')\n",
       "                    .attr('transform', d => `translate(${d.y},${d.x})`);\n",
       "\n",
       "  nodes.append('rect')\n",
       "      .attr('x', 0.5)\n",
       "      .attr('y', 0.5)\n",
       "      .attr('width', options.node_x_size)\n",
       "      .attr('height', options.node_y_size)\n",
       "      .attr('stroke', 'lightgrey')\n",
       "      .attr('stroke-width', 1)\n",
       "      .attr('fill', 'white')\n",
       "      .attr('y', -options.node_y_size / 2);\n",
       "\n",
       "  // Brackets on the right of condition nodes without children.\n",
       "  non_leaf_node_without_children =\n",
       "      nodes.filter(node => node.data.condition != null && node.children == null)\n",
       "          .append('g')\n",
       "          .attr('transform', `translate(${options.node_x_size},0)`);\n",
       "\n",
       "  non_leaf_node_without_children.append('path')\n",
       "      .attr('d', 'M0,0 C 10,0 0,10 10,10')\n",
       "      .attr('fill', 'none')\n",
       "      .attr('stroke-width', 1.0)\n",
       "      .attr('stroke', '#F00');\n",
       "\n",
       "  non_leaf_node_without_children.append('path')\n",
       "      .attr('d', 'M0,0 C 10,0 0,-10 10,-10')\n",
       "      .attr('fill', 'none')\n",
       "      .attr('stroke-width', 1.0)\n",
       "      .attr('stroke', '#0F0');\n",
       "\n",
       "  const node_content = nodes.append('g').attr(\n",
       "      'transform',\n",
       "      `translate(0,${options.node_padding - options.node_y_size / 2})`);\n",
       "\n",
       "  node_content.append(node => create_node_element(options, node));\n",
       "}\n",
       "\n",
       "/**\n",
       " * Creates the D3 content for a single node.\n",
       " * @param {!options} options Dictionary of configurations.\n",
       " * @param {!node} node Node to draw.\n",
       " * @return {!d3} D3 content.\n",
       " */\n",
       "function create_node_element(options, node) {\n",
       "  // Output accumulator.\n",
       "  let output = {\n",
       "    // Content to draw.\n",
       "    content: d3.create('svg:g'),\n",
       "    // Vertical offset to the next element to draw.\n",
       "    vertical_offset: 0\n",
       "  };\n",
       "\n",
       "  // Conditions.\n",
       "  if (node.data.condition != null) {\n",
       "    display_condition(options, node.data.condition, output);\n",
       "  }\n",
       "\n",
       "  // Values.\n",
       "  if (node.data.value != null) {\n",
       "    display_value(options, node.data.value, output);\n",
       "  }\n",
       "\n",
       "  // Explanations.\n",
       "  if (node.data.explanation != null) {\n",
       "    display_explanation(options, node.data.explanation, output);\n",
       "  }\n",
       "\n",
       "  return output.content.node();\n",
       "}\n",
       "\n",
       "\n",
       "/**\n",
       " * Adds a single line of text inside of a node.\n",
       " * @param {!options} options Dictionary of configurations.\n",
       " * @param {string} text Text to display.\n",
       " * @param {!output} output Output display accumulator.\n",
       " */\n",
       "function display_node_text(options, text, output) {\n",
       "  output.content.append('text')\n",
       "      .attr('x', options.node_padding)\n",
       "      .attr('y', output.vertical_offset)\n",
       "      .attr('alignment-baseline', 'hanging')\n",
       "      .text(text);\n",
       "  output.vertical_offset += 10;\n",
       "}\n",
       "\n",
       "/**\n",
       " * Adds a single line of text inside of a node with a tooltip.\n",
       " * @param {!options} options Dictionary of configurations.\n",
       " * @param {string} text Text to display.\n",
       " * @param {string} tooltip Text in the Tooltip.\n",
       " * @param {!output} output Output display accumulator.\n",
       " */\n",
       "function display_node_text_with_tooltip(options, text, tooltip, output) {\n",
       "  const item = output.content.append('text')\n",
       "                   .attr('x', options.node_padding)\n",
       "                   .attr('alignment-baseline', 'hanging')\n",
       "                   .text(text);\n",
       "\n",
       "  add_tooltip(options, item, () => tooltip);\n",
       "  output.vertical_offset += 10;\n",
       "}\n",
       "\n",
       "/**\n",
       " * Adds a tooltip to a dom element.\n",
       " * @param {!options} options Dictionary of configurations.\n",
       " * @param {!dom} target Dom element to equip with a tooltip.\n",
       " * @param {!func} get_content Generates the html content of the tooltip.\n",
       " */\n",
       "function add_tooltip(options, target, get_content) {\n",
       "  function show(d) {\n",
       "    options.tooltip.style('display', 'block');\n",
       "    options.tooltip.html(get_content());\n",
       "  }\n",
       "\n",
       "  function hide(d) {\n",
       "    options.tooltip.style('display', 'none');\n",
       "  }\n",
       "\n",
       "  function move(d) {\n",
       "    options.tooltip.style('display', 'block');\n",
       "    options.tooltip.style('left', (d.pageX + 5) + 'px');\n",
       "    options.tooltip.style('top', d.pageY + 'px');\n",
       "  }\n",
       "\n",
       "  target.on('mouseover', show);\n",
       "  target.on('mouseout', hide);\n",
       "  target.on('mousemove', move);\n",
       "}\n",
       "\n",
       "/**\n",
       " * Adds a condition inside of a node.\n",
       " * @param {!options} options Dictionary of configurations.\n",
       " * @param {!condition} condition Condition to display.\n",
       " * @param {!output} output Output display accumulator.\n",
       " */\n",
       "function display_condition(options, condition, output) {\n",
       "  threshold_format = d3.format('r');\n",
       "\n",
       "  if (condition.type === 'IS_MISSING') {\n",
       "    display_node_text(options, `${condition.attribute} is missing`, output);\n",
       "    return;\n",
       "  }\n",
       "\n",
       "  if (condition.type === 'IS_TRUE') {\n",
       "    display_node_text(options, `${condition.attribute} is true`, output);\n",
       "    return;\n",
       "  }\n",
       "\n",
       "  if (condition.type === 'NUMERICAL_IS_HIGHER_THAN') {\n",
       "    format = d3.format('r');\n",
       "    display_node_text(\n",
       "        options,\n",
       "        `${condition.attribute} >= ${threshold_format(condition.threshold)}`,\n",
       "        output);\n",
       "    return;\n",
       "  }\n",
       "\n",
       "  if (condition.type === 'CATEGORICAL_IS_IN') {\n",
       "    display_node_text_with_tooltip(\n",
       "        options, `${condition.attribute} in [...]`,\n",
       "        `${condition.attribute} in [${condition.mask}]`, output);\n",
       "    return;\n",
       "  }\n",
       "\n",
       "  if (condition.type === 'CATEGORICAL_SET_CONTAINS') {\n",
       "    display_node_text_with_tooltip(\n",
       "        options, `${condition.attribute} intersect [...]`,\n",
       "        `${condition.attribute} intersect [${condition.mask}]`, output);\n",
       "    return;\n",
       "  }\n",
       "\n",
       "  if (condition.type === 'NUMERICAL_SPARSE_OBLIQUE') {\n",
       "    display_node_text_with_tooltip(\n",
       "        options, `Sparse oblique split...`,\n",
       "        `[${condition.attributes}]*[${condition.weights}]>=${\n",
       "            threshold_format(condition.threshold)}`,\n",
       "        output);\n",
       "    return;\n",
       "  }\n",
       "\n",
       "  display_node_text(\n",
       "      options, `Non supported condition ${condition.type}`, output);\n",
       "}\n",
       "\n",
       "/**\n",
       " * Adds a value inside of a node.\n",
       " * @param {!options} options Dictionary of configurations.\n",
       " * @param {!value} value Value to display.\n",
       " * @param {!output} output Output display accumulator.\n",
       " */\n",
       "function display_value(options, value, output) {\n",
       "  if (value.type === 'PROBABILITY') {\n",
       "    const left_margin = 0;\n",
       "    const right_margin = 50;\n",
       "    const plot_width = options.node_x_size - options.node_padding * 2 -\n",
       "        left_margin - right_margin;\n",
       "\n",
       "    let cusum = Array.from(d3.cumsum(value.distribution));\n",
       "    cusum.unshift(0);\n",
       "    const distribution_plot = output.content.append('g').attr(\n",
       "        'transform', `translate(0,${output.vertical_offset + 0.5})`);\n",
       "\n",
       "    distribution_plot.selectAll('rect')\n",
       "        .data(value.distribution)\n",
       "        .join('rect')\n",
       "        .attr('height', 10)\n",
       "        .attr(\n",
       "            'x',\n",
       "            (d, i) =>\n",
       "                (cusum[i] * plot_width + left_margin + options.node_padding))\n",
       "        .attr('width', (d, i) => d * plot_width)\n",
       "        .style('fill', (d, i) => d3.schemeSet1[i]);\n",
       "\n",
       "    const num_examples =\n",
       "        output.content.append('g')\n",
       "            .attr('transform', `translate(0,${output.vertical_offset})`)\n",
       "            .append('text')\n",
       "            .attr('x', options.node_x_size - options.node_padding)\n",
       "            .attr('alignment-baseline', 'hanging')\n",
       "            .attr('text-anchor', 'end')\n",
       "            .text(`(${value.num_examples})`);\n",
       "\n",
       "    const distribution_details = d3.create('ul');\n",
       "    distribution_details.selectAll('li')\n",
       "        .data(value.distribution)\n",
       "        .join('li')\n",
       "        .append('span')\n",
       "        .text(\n",
       "            (d, i) =>\n",
       "                'class ' + i + ': ' + d3.format('.3%')(value.distribution[i]));\n",
       "\n",
       "    add_tooltip(options, distribution_plot, () => distribution_details.html());\n",
       "    add_tooltip(options, num_examples, () => 'Number of examples');\n",
       "\n",
       "    output.vertical_offset += 10;\n",
       "    return;\n",
       "  }\n",
       "\n",
       "  if (value.type === 'REGRESSION') {\n",
       "    display_node_text(\n",
       "        options,\n",
       "        'value: ' + d3.format('r')(value.value) + ` (` +\n",
       "            d3.format('.6')(value.num_examples) + `)`,\n",
       "        output);\n",
       "    return;\n",
       "  }\n",
       "\n",
       "  if (value.type === 'UPLIFT') {\n",
       "    display_node_text(\n",
       "        options,\n",
       "        'effect: ' + d3.format('r')(value.treatment_effect) + ` (` +\n",
       "            d3.format('.6')(value.num_examples) + `)`,\n",
       "        output);\n",
       "    return;\n",
       "  }\n",
       "\n",
       "  display_node_text(options, `Non supported value ${value.type}`, output);\n",
       "}\n",
       "\n",
       "/**\n",
       " * Adds an explanation inside of a node.\n",
       " * @param {!options} options Dictionary of configurations.\n",
       " * @param {!explanation} explanation Explanation to display.\n",
       " * @param {!output} output Output display accumulator.\n",
       " */\n",
       "function display_explanation(options, explanation, output) {\n",
       "  // Margin before the explanation.\n",
       "  output.vertical_offset += 10;\n",
       "\n",
       "  display_node_text(\n",
       "      options, `Non supported explanation ${explanation.type}`, output);\n",
       "}\n",
       "\n",
       "\n",
       "/**\n",
       " * Draw the edges of the tree.\n",
       " * @param {!options} options Dictionary of configurations.\n",
       " * @param {!graph} graph D3 search handle containing the graph.\n",
       " * @param {!tree_struct} tree_struct Structure of the tree (node placement,\n",
       " *     data, etc.).\n",
       " */\n",
       "function display_edges(options, graph, tree_struct) {\n",
       "  // Draw an edge between a parent and a child node with a bezier.\n",
       "  function draw_single_edge(d) {\n",
       "    return 'M' + (d.source.y + options.node_x_size) + ',' + d.source.x + ' C' +\n",
       "        (d.source.y + options.node_x_size + options.edge_rounding) + ',' +\n",
       "        d.source.x + ' ' + (d.target.y - options.edge_rounding) + ',' +\n",
       "        d.target.x + ' ' + d.target.y + ',' + d.target.x;\n",
       "  }\n",
       "\n",
       "  graph.append('g')\n",
       "      .attr('fill', 'none')\n",
       "      .attr('stroke-width', 1.2)\n",
       "      .selectAll('path')\n",
       "      .data(tree_struct.links())\n",
       "      .join('path')\n",
       "      .attr('d', draw_single_edge)\n",
       "      .attr(\n",
       "          'stroke', d => (d.target === d.source.children[0]) ? '#0F0' : '#F00');\n",
       "}\n",
       "\n",
       "display_tree({\"margin\": 10, \"node_x_size\": 160, \"node_y_size\": 28, \"node_x_offset\": 180, \"node_y_offset\": 33, \"font_size\": 10, \"edge_rounding\": 20, \"node_padding\": 2, \"show_plot_bounding_box\": false}, {\"value\": {\"type\": \"REGRESSION\", \"value\": -0.035561855882406235, \"num_examples\": 5771.0, \"standard_deviation\": 1.030061076893413}, \"condition\": {\"type\": \"NUMERICAL_IS_HIGHER_THAN\", \"attribute\": \"text_word_cnt\", \"threshold\": 80.5}, \"children\": [{\"value\": {\"type\": \"REGRESSION\", \"value\": 1.0304661989212036, \"num_examples\": 1849.0, \"standard_deviation\": 0.9137310900254022}, \"condition\": {\"type\": \"NUMERICAL_IS_HIGHER_THAN\", \"attribute\": \"text_char_len\", \"threshold\": 748.5}, \"children\": [{\"value\": {\"type\": \"REGRESSION\", \"value\": 1.7544333934783936, \"num_examples\": 631.0, \"standard_deviation\": 0.850202278348752}, \"condition\": {\"type\": \"NUMERICAL_IS_HIGHER_THAN\", \"attribute\": \"text_char_len\", \"threshold\": 1081.0}, \"children\": [{\"value\": {\"type\": \"REGRESSION\", \"value\": 2.089233636856079, \"num_examples\": 221.0, \"standard_deviation\": 0.8908942408181342}, \"condition\": {\"type\": \"NUMERICAL_IS_HIGHER_THAN\", \"attribute\": \"text_stopwords_cnt\", \"threshold\": 146.5}}, {\"value\": {\"type\": \"REGRESSION\", \"value\": 1.5739679336547852, \"num_examples\": 410.0, \"standard_deviation\": 0.7691989718766872}, \"condition\": {\"type\": \"NUMERICAL_IS_HIGHER_THAN\", \"attribute\": \"text_word_cnt\", \"threshold\": 207.5}}]}, {\"value\": {\"type\": \"REGRESSION\", \"value\": 0.6554060578346252, \"num_examples\": 1218.0, \"standard_deviation\": 0.6933667777012947}, \"condition\": {\"type\": \"NUMERICAL_IS_HIGHER_THAN\", \"attribute\": \"text_char_len\", \"threshold\": 585.5}, \"children\": [{\"value\": {\"type\": \"REGRESSION\", \"value\": 0.9557130336761475, \"num_examples\": 483.0, \"standard_deviation\": 0.642239078241268}, \"condition\": {\"type\": \"NUMERICAL_IS_HIGHER_THAN\", \"attribute\": \"text_stopwords_cnt\", \"threshold\": 54.5}}, {\"value\": {\"type\": \"REGRESSION\", \"value\": 0.45806145668029785, \"num_examples\": 735.0, \"standard_deviation\": 0.6537756354751325}, \"condition\": {\"type\": \"NUMERICAL_IS_HIGHER_THAN\", \"attribute\": \"text_punctuation_cnt\", \"threshold\": 3.5}}]}]}, {\"value\": {\"type\": \"REGRESSION\", \"value\": -0.5381335020065308, \"num_examples\": 3922.0, \"standard_deviation\": 0.615869675782044}, \"condition\": {\"type\": \"NUMERICAL_IS_HIGHER_THAN\", \"attribute\": \"text_char_len\", \"threshold\": 224.5}, \"children\": [{\"value\": {\"type\": \"REGRESSION\", \"value\": -0.20522405207157135, \"num_examples\": 2297.0, \"standard_deviation\": 0.5014089818347567}, \"condition\": {\"type\": \"NUMERICAL_IS_HIGHER_THAN\", \"attribute\": \"text_char_len\", \"threshold\": 343.5}, \"children\": [{\"value\": {\"type\": \"REGRESSION\", \"value\": 0.1002601757645607, \"num_examples\": 768.0, \"standard_deviation\": 0.41322690847996657}, \"condition\": {\"type\": \"NUMERICAL_IS_HIGHER_THAN\", \"attribute\": \"text_char_len\", \"threshold\": 381.5}}, {\"value\": {\"type\": \"REGRESSION\", \"value\": -0.35866543650627136, \"num_examples\": 1529.0, \"standard_deviation\": 0.470642805886905}, \"condition\": {\"type\": \"NUMERICAL_IS_HIGHER_THAN\", \"attribute\": \"text_word_cnt\", \"threshold\": 48.5}}]}, {\"value\": {\"type\": \"REGRESSION\", \"value\": -1.008713722229004, \"num_examples\": 1625.0, \"standard_deviation\": 0.4265661552200943}, \"condition\": {\"type\": \"NUMERICAL_IS_HIGHER_THAN\", \"attribute\": \"text_punctuation_cnt\", \"threshold\": 1.5}, \"children\": [{\"value\": {\"type\": \"REGRESSION\", \"value\": -0.9682048559188843, \"num_examples\": 1414.0, \"standard_deviation\": 0.432913854450624}, \"condition\": {\"type\": \"NUMERICAL_IS_HIGHER_THAN\", \"attribute\": \"text_char_len\", \"threshold\": 185.5}}, {\"value\": {\"type\": \"REGRESSION\", \"value\": -1.2801809310913086, \"num_examples\": 211.0, \"standard_deviation\": 0.24638651613343734}, \"condition\": {\"type\": \"NUMERICAL_IS_HIGHER_THAN\", \"attribute\": \"text_char_len\", \"threshold\": 170.5}}]}]}]}, \"#tree_plot_20e5018ffa924513a4427e5600daba70\")\n",
       "</script>\n"
      ],
      "text/plain": [
       "<IPython.core.display.HTML object>"
      ]
     },
     "execution_count": 27,
     "metadata": {},
     "output_type": "execute_result"
    }
   ],
   "source": [
    "tfdf.model_plotter.plot_model_in_colab(model_4_content,tree_idx=0,max_depth=3)"
   ]
  },
  {
   "cell_type": "code",
   "execution_count": 28,
   "id": "16e5c79c",
   "metadata": {
    "execution": {
     "iopub.execute_input": "2023-12-06T18:57:24.186330Z",
     "iopub.status.busy": "2023-12-06T18:57:24.185936Z",
     "iopub.status.idle": "2023-12-06T18:57:24.307053Z",
     "shell.execute_reply": "2023-12-06T18:57:24.306415Z"
    },
    "papermill": {
     "duration": 0.138294,
     "end_time": "2023-12-06T18:57:24.308665",
     "exception": false,
     "start_time": "2023-12-06T18:57:24.170371",
     "status": "completed"
    },
    "tags": []
   },
   "outputs": [
    {
     "data": {
      "text/html": [
       "\n",
       "<script src=\"https://d3js.org/d3.v6.min.js\"></script>\n",
       "<div id=\"tree_plot_3952c15196d04d0eaa0258092efc3a83\"></div>\n",
       "<script>\n",
       "/*\n",
       " * Copyright 2021 Google LLC.\n",
       " * Licensed under the Apache License, Version 2.0 (the \"License\");\n",
       " * you may not use this file except in compliance with the License.\n",
       " * You may obtain a copy of the License at\n",
       " *\n",
       " *     https://www.apache.org/licenses/LICENSE-2.0\n",
       " *\n",
       " * Unless required by applicable law or agreed to in writing, software\n",
       " * distributed under the License is distributed on an \"AS IS\" BASIS,\n",
       " * WITHOUT WARRANTIES OR CONDITIONS OF ANY KIND, either express or implied.\n",
       " * See the License for the specific language governing permissions and\n",
       " * limitations under the License.\n",
       " */\n",
       "\n",
       "/**\n",
       " *  Plotting of decision trees generated by TF-DF.\n",
       " *\n",
       " *  A tree is a recursive structure of node objects.\n",
       " *  A node contains one or more of the following components:\n",
       " *\n",
       " *    - A value: Representing the output of the node. If the node is not a leaf,\n",
       " *      the value is only present for analysis i.e. it is not used for\n",
       " *      predictions.\n",
       " *\n",
       " *    - A condition : For non-leaf nodes, the condition (also known as split)\n",
       " *      defines a binary test to branch to the positive or negative child.\n",
       " *\n",
       " *    - An explanation: Generally a plot showing the relation between the label\n",
       " *      and the condition to give insights about the effect of the condition.\n",
       " *\n",
       " *    - Two children : For non-leaf nodes, the children nodes. The first\n",
       " *      children (i.e. \"node.children[0]\") is the negative children (drawn in\n",
       " *      red). The second children is the positive one (drawn in green).\n",
       " *\n",
       " */\n",
       "\n",
       "/**\n",
       " * Plots a single decision tree into a DOM element.\n",
       " * @param {!options} options Dictionary of configurations.\n",
       " * @param {!tree} raw_tree Recursive tree structure.\n",
       " * @param {string} canvas_id Id of the output dom element.\n",
       " */\n",
       "function display_tree(options, raw_tree, canvas_id) {\n",
       "  console.log(options);\n",
       "\n",
       "  // Determine the node placement.\n",
       "  const tree_struct = d3.tree().nodeSize(\n",
       "      [options.node_y_offset, options.node_x_offset])(d3.hierarchy(raw_tree));\n",
       "\n",
       "  // Boundaries of the node placement.\n",
       "  let x_min = Infinity;\n",
       "  let x_max = -x_min;\n",
       "  let y_min = Infinity;\n",
       "  let y_max = -x_min;\n",
       "\n",
       "  tree_struct.each(d => {\n",
       "    if (d.x > x_max) x_max = d.x;\n",
       "    if (d.x < x_min) x_min = d.x;\n",
       "    if (d.y > y_max) y_max = d.y;\n",
       "    if (d.y < y_min) y_min = d.y;\n",
       "  });\n",
       "\n",
       "  // Size of the plot.\n",
       "  const width = y_max - y_min + options.node_x_size + options.margin * 2;\n",
       "  const height = x_max - x_min + options.node_y_size + options.margin * 2 +\n",
       "      options.node_y_offset - options.node_y_size;\n",
       "\n",
       "  const plot = d3.select(canvas_id);\n",
       "\n",
       "  // Tool tip\n",
       "  options.tooltip = plot.append('div')\n",
       "                        .attr('width', 100)\n",
       "                        .attr('height', 100)\n",
       "                        .style('padding', '4px')\n",
       "                        .style('background', '#fff')\n",
       "                        .style('box-shadow', '4px 4px 0px rgba(0,0,0,0.1)')\n",
       "                        .style('border', '1px solid black')\n",
       "                        .style('font-family', 'sans-serif')\n",
       "                        .style('font-size', options.font_size)\n",
       "                        .style('position', 'absolute')\n",
       "                        .style('z-index', '10')\n",
       "                        .attr('pointer-events', 'none')\n",
       "                        .style('display', 'none');\n",
       "\n",
       "  // Create canvas\n",
       "  const svg = plot.append('svg').attr('width', width).attr('height', height);\n",
       "  const graph =\n",
       "      svg.style('overflow', 'visible')\n",
       "          .append('g')\n",
       "          .attr('font-family', 'sans-serif')\n",
       "          .attr('font-size', options.font_size)\n",
       "          .attr(\n",
       "              'transform',\n",
       "              () => `translate(${options.margin},${\n",
       "                  - x_min + options.node_y_offset / 2 + options.margin})`);\n",
       "\n",
       "  // Plot bounding box.\n",
       "  if (options.show_plot_bounding_box) {\n",
       "    svg.append('rect')\n",
       "        .attr('width', width)\n",
       "        .attr('height', height)\n",
       "        .attr('fill', 'none')\n",
       "        .attr('stroke-width', 1.0)\n",
       "        .attr('stroke', 'black');\n",
       "  }\n",
       "\n",
       "  // Draw the edges.\n",
       "  display_edges(options, graph, tree_struct);\n",
       "\n",
       "  // Draw the nodes.\n",
       "  display_nodes(options, graph, tree_struct);\n",
       "}\n",
       "\n",
       "/**\n",
       " * Draw the nodes of the tree.\n",
       " * @param {!options} options Dictionary of configurations.\n",
       " * @param {!graph} graph D3 search handle containing the graph.\n",
       " * @param {!tree_struct} tree_struct Structure of the tree (node placement,\n",
       " *     data, etc.).\n",
       " */\n",
       "function display_nodes(options, graph, tree_struct) {\n",
       "  const nodes = graph.append('g')\n",
       "                    .selectAll('g')\n",
       "                    .data(tree_struct.descendants())\n",
       "                    .join('g')\n",
       "                    .attr('transform', d => `translate(${d.y},${d.x})`);\n",
       "\n",
       "  nodes.append('rect')\n",
       "      .attr('x', 0.5)\n",
       "      .attr('y', 0.5)\n",
       "      .attr('width', options.node_x_size)\n",
       "      .attr('height', options.node_y_size)\n",
       "      .attr('stroke', 'lightgrey')\n",
       "      .attr('stroke-width', 1)\n",
       "      .attr('fill', 'white')\n",
       "      .attr('y', -options.node_y_size / 2);\n",
       "\n",
       "  // Brackets on the right of condition nodes without children.\n",
       "  non_leaf_node_without_children =\n",
       "      nodes.filter(node => node.data.condition != null && node.children == null)\n",
       "          .append('g')\n",
       "          .attr('transform', `translate(${options.node_x_size},0)`);\n",
       "\n",
       "  non_leaf_node_without_children.append('path')\n",
       "      .attr('d', 'M0,0 C 10,0 0,10 10,10')\n",
       "      .attr('fill', 'none')\n",
       "      .attr('stroke-width', 1.0)\n",
       "      .attr('stroke', '#F00');\n",
       "\n",
       "  non_leaf_node_without_children.append('path')\n",
       "      .attr('d', 'M0,0 C 10,0 0,-10 10,-10')\n",
       "      .attr('fill', 'none')\n",
       "      .attr('stroke-width', 1.0)\n",
       "      .attr('stroke', '#0F0');\n",
       "\n",
       "  const node_content = nodes.append('g').attr(\n",
       "      'transform',\n",
       "      `translate(0,${options.node_padding - options.node_y_size / 2})`);\n",
       "\n",
       "  node_content.append(node => create_node_element(options, node));\n",
       "}\n",
       "\n",
       "/**\n",
       " * Creates the D3 content for a single node.\n",
       " * @param {!options} options Dictionary of configurations.\n",
       " * @param {!node} node Node to draw.\n",
       " * @return {!d3} D3 content.\n",
       " */\n",
       "function create_node_element(options, node) {\n",
       "  // Output accumulator.\n",
       "  let output = {\n",
       "    // Content to draw.\n",
       "    content: d3.create('svg:g'),\n",
       "    // Vertical offset to the next element to draw.\n",
       "    vertical_offset: 0\n",
       "  };\n",
       "\n",
       "  // Conditions.\n",
       "  if (node.data.condition != null) {\n",
       "    display_condition(options, node.data.condition, output);\n",
       "  }\n",
       "\n",
       "  // Values.\n",
       "  if (node.data.value != null) {\n",
       "    display_value(options, node.data.value, output);\n",
       "  }\n",
       "\n",
       "  // Explanations.\n",
       "  if (node.data.explanation != null) {\n",
       "    display_explanation(options, node.data.explanation, output);\n",
       "  }\n",
       "\n",
       "  return output.content.node();\n",
       "}\n",
       "\n",
       "\n",
       "/**\n",
       " * Adds a single line of text inside of a node.\n",
       " * @param {!options} options Dictionary of configurations.\n",
       " * @param {string} text Text to display.\n",
       " * @param {!output} output Output display accumulator.\n",
       " */\n",
       "function display_node_text(options, text, output) {\n",
       "  output.content.append('text')\n",
       "      .attr('x', options.node_padding)\n",
       "      .attr('y', output.vertical_offset)\n",
       "      .attr('alignment-baseline', 'hanging')\n",
       "      .text(text);\n",
       "  output.vertical_offset += 10;\n",
       "}\n",
       "\n",
       "/**\n",
       " * Adds a single line of text inside of a node with a tooltip.\n",
       " * @param {!options} options Dictionary of configurations.\n",
       " * @param {string} text Text to display.\n",
       " * @param {string} tooltip Text in the Tooltip.\n",
       " * @param {!output} output Output display accumulator.\n",
       " */\n",
       "function display_node_text_with_tooltip(options, text, tooltip, output) {\n",
       "  const item = output.content.append('text')\n",
       "                   .attr('x', options.node_padding)\n",
       "                   .attr('alignment-baseline', 'hanging')\n",
       "                   .text(text);\n",
       "\n",
       "  add_tooltip(options, item, () => tooltip);\n",
       "  output.vertical_offset += 10;\n",
       "}\n",
       "\n",
       "/**\n",
       " * Adds a tooltip to a dom element.\n",
       " * @param {!options} options Dictionary of configurations.\n",
       " * @param {!dom} target Dom element to equip with a tooltip.\n",
       " * @param {!func} get_content Generates the html content of the tooltip.\n",
       " */\n",
       "function add_tooltip(options, target, get_content) {\n",
       "  function show(d) {\n",
       "    options.tooltip.style('display', 'block');\n",
       "    options.tooltip.html(get_content());\n",
       "  }\n",
       "\n",
       "  function hide(d) {\n",
       "    options.tooltip.style('display', 'none');\n",
       "  }\n",
       "\n",
       "  function move(d) {\n",
       "    options.tooltip.style('display', 'block');\n",
       "    options.tooltip.style('left', (d.pageX + 5) + 'px');\n",
       "    options.tooltip.style('top', d.pageY + 'px');\n",
       "  }\n",
       "\n",
       "  target.on('mouseover', show);\n",
       "  target.on('mouseout', hide);\n",
       "  target.on('mousemove', move);\n",
       "}\n",
       "\n",
       "/**\n",
       " * Adds a condition inside of a node.\n",
       " * @param {!options} options Dictionary of configurations.\n",
       " * @param {!condition} condition Condition to display.\n",
       " * @param {!output} output Output display accumulator.\n",
       " */\n",
       "function display_condition(options, condition, output) {\n",
       "  threshold_format = d3.format('r');\n",
       "\n",
       "  if (condition.type === 'IS_MISSING') {\n",
       "    display_node_text(options, `${condition.attribute} is missing`, output);\n",
       "    return;\n",
       "  }\n",
       "\n",
       "  if (condition.type === 'IS_TRUE') {\n",
       "    display_node_text(options, `${condition.attribute} is true`, output);\n",
       "    return;\n",
       "  }\n",
       "\n",
       "  if (condition.type === 'NUMERICAL_IS_HIGHER_THAN') {\n",
       "    format = d3.format('r');\n",
       "    display_node_text(\n",
       "        options,\n",
       "        `${condition.attribute} >= ${threshold_format(condition.threshold)}`,\n",
       "        output);\n",
       "    return;\n",
       "  }\n",
       "\n",
       "  if (condition.type === 'CATEGORICAL_IS_IN') {\n",
       "    display_node_text_with_tooltip(\n",
       "        options, `${condition.attribute} in [...]`,\n",
       "        `${condition.attribute} in [${condition.mask}]`, output);\n",
       "    return;\n",
       "  }\n",
       "\n",
       "  if (condition.type === 'CATEGORICAL_SET_CONTAINS') {\n",
       "    display_node_text_with_tooltip(\n",
       "        options, `${condition.attribute} intersect [...]`,\n",
       "        `${condition.attribute} intersect [${condition.mask}]`, output);\n",
       "    return;\n",
       "  }\n",
       "\n",
       "  if (condition.type === 'NUMERICAL_SPARSE_OBLIQUE') {\n",
       "    display_node_text_with_tooltip(\n",
       "        options, `Sparse oblique split...`,\n",
       "        `[${condition.attributes}]*[${condition.weights}]>=${\n",
       "            threshold_format(condition.threshold)}`,\n",
       "        output);\n",
       "    return;\n",
       "  }\n",
       "\n",
       "  display_node_text(\n",
       "      options, `Non supported condition ${condition.type}`, output);\n",
       "}\n",
       "\n",
       "/**\n",
       " * Adds a value inside of a node.\n",
       " * @param {!options} options Dictionary of configurations.\n",
       " * @param {!value} value Value to display.\n",
       " * @param {!output} output Output display accumulator.\n",
       " */\n",
       "function display_value(options, value, output) {\n",
       "  if (value.type === 'PROBABILITY') {\n",
       "    const left_margin = 0;\n",
       "    const right_margin = 50;\n",
       "    const plot_width = options.node_x_size - options.node_padding * 2 -\n",
       "        left_margin - right_margin;\n",
       "\n",
       "    let cusum = Array.from(d3.cumsum(value.distribution));\n",
       "    cusum.unshift(0);\n",
       "    const distribution_plot = output.content.append('g').attr(\n",
       "        'transform', `translate(0,${output.vertical_offset + 0.5})`);\n",
       "\n",
       "    distribution_plot.selectAll('rect')\n",
       "        .data(value.distribution)\n",
       "        .join('rect')\n",
       "        .attr('height', 10)\n",
       "        .attr(\n",
       "            'x',\n",
       "            (d, i) =>\n",
       "                (cusum[i] * plot_width + left_margin + options.node_padding))\n",
       "        .attr('width', (d, i) => d * plot_width)\n",
       "        .style('fill', (d, i) => d3.schemeSet1[i]);\n",
       "\n",
       "    const num_examples =\n",
       "        output.content.append('g')\n",
       "            .attr('transform', `translate(0,${output.vertical_offset})`)\n",
       "            .append('text')\n",
       "            .attr('x', options.node_x_size - options.node_padding)\n",
       "            .attr('alignment-baseline', 'hanging')\n",
       "            .attr('text-anchor', 'end')\n",
       "            .text(`(${value.num_examples})`);\n",
       "\n",
       "    const distribution_details = d3.create('ul');\n",
       "    distribution_details.selectAll('li')\n",
       "        .data(value.distribution)\n",
       "        .join('li')\n",
       "        .append('span')\n",
       "        .text(\n",
       "            (d, i) =>\n",
       "                'class ' + i + ': ' + d3.format('.3%')(value.distribution[i]));\n",
       "\n",
       "    add_tooltip(options, distribution_plot, () => distribution_details.html());\n",
       "    add_tooltip(options, num_examples, () => 'Number of examples');\n",
       "\n",
       "    output.vertical_offset += 10;\n",
       "    return;\n",
       "  }\n",
       "\n",
       "  if (value.type === 'REGRESSION') {\n",
       "    display_node_text(\n",
       "        options,\n",
       "        'value: ' + d3.format('r')(value.value) + ` (` +\n",
       "            d3.format('.6')(value.num_examples) + `)`,\n",
       "        output);\n",
       "    return;\n",
       "  }\n",
       "\n",
       "  if (value.type === 'UPLIFT') {\n",
       "    display_node_text(\n",
       "        options,\n",
       "        'effect: ' + d3.format('r')(value.treatment_effect) + ` (` +\n",
       "            d3.format('.6')(value.num_examples) + `)`,\n",
       "        output);\n",
       "    return;\n",
       "  }\n",
       "\n",
       "  display_node_text(options, `Non supported value ${value.type}`, output);\n",
       "}\n",
       "\n",
       "/**\n",
       " * Adds an explanation inside of a node.\n",
       " * @param {!options} options Dictionary of configurations.\n",
       " * @param {!explanation} explanation Explanation to display.\n",
       " * @param {!output} output Output display accumulator.\n",
       " */\n",
       "function display_explanation(options, explanation, output) {\n",
       "  // Margin before the explanation.\n",
       "  output.vertical_offset += 10;\n",
       "\n",
       "  display_node_text(\n",
       "      options, `Non supported explanation ${explanation.type}`, output);\n",
       "}\n",
       "\n",
       "\n",
       "/**\n",
       " * Draw the edges of the tree.\n",
       " * @param {!options} options Dictionary of configurations.\n",
       " * @param {!graph} graph D3 search handle containing the graph.\n",
       " * @param {!tree_struct} tree_struct Structure of the tree (node placement,\n",
       " *     data, etc.).\n",
       " */\n",
       "function display_edges(options, graph, tree_struct) {\n",
       "  // Draw an edge between a parent and a child node with a bezier.\n",
       "  function draw_single_edge(d) {\n",
       "    return 'M' + (d.source.y + options.node_x_size) + ',' + d.source.x + ' C' +\n",
       "        (d.source.y + options.node_x_size + options.edge_rounding) + ',' +\n",
       "        d.source.x + ' ' + (d.target.y - options.edge_rounding) + ',' +\n",
       "        d.target.x + ' ' + d.target.y + ',' + d.target.x;\n",
       "  }\n",
       "\n",
       "  graph.append('g')\n",
       "      .attr('fill', 'none')\n",
       "      .attr('stroke-width', 1.2)\n",
       "      .selectAll('path')\n",
       "      .data(tree_struct.links())\n",
       "      .join('path')\n",
       "      .attr('d', draw_single_edge)\n",
       "      .attr(\n",
       "          'stroke', d => (d.target === d.source.children[0]) ? '#0F0' : '#F00');\n",
       "}\n",
       "\n",
       "display_tree({\"margin\": 10, \"node_x_size\": 160, \"node_y_size\": 28, \"node_x_offset\": 180, \"node_y_offset\": 33, \"font_size\": 10, \"edge_rounding\": 20, \"node_padding\": 2, \"show_plot_bounding_box\": false}, {\"value\": {\"type\": \"REGRESSION\", \"value\": -0.04867227002978325, \"num_examples\": 5771.0, \"standard_deviation\": 1.043765588591147}, \"condition\": {\"type\": \"NUMERICAL_IS_HIGHER_THAN\", \"attribute\": \"text_char_len\", \"threshold\": 422.5}, \"children\": [{\"value\": {\"type\": \"REGRESSION\", \"value\": 1.0049042701721191, \"num_examples\": 1924.0, \"standard_deviation\": 0.9263973895219983}, \"condition\": {\"type\": \"NUMERICAL_IS_HIGHER_THAN\", \"attribute\": \"text_word_cnt\", \"threshold\": 153.5}, \"children\": [{\"value\": {\"type\": \"REGRESSION\", \"value\": 1.9315943717956543, \"num_examples\": 462.0, \"standard_deviation\": 0.8697961158941778}, \"condition\": {\"type\": \"NUMERICAL_IS_HIGHER_THAN\", \"attribute\": \"text_stopwords_cnt\", \"threshold\": 86.5}, \"children\": [{\"value\": {\"type\": \"REGRESSION\", \"value\": 2.1005704402923584, \"num_examples\": 286.0, \"standard_deviation\": 0.9243212146868214}, \"condition\": {\"type\": \"NUMERICAL_IS_HIGHER_THAN\", \"attribute\": \"text_word_cnt\", \"threshold\": 364.0}}, {\"value\": {\"type\": \"REGRESSION\", \"value\": 1.657008409500122, \"num_examples\": 176.0, \"standard_deviation\": 0.6897714874377509}, \"condition\": {\"type\": \"NUMERICAL_IS_HIGHER_THAN\", \"attribute\": \"text_char_len\", \"threshold\": 853.5}}]}, {\"value\": {\"type\": \"REGRESSION\", \"value\": 0.7120651602745056, \"num_examples\": 1462.0, \"standard_deviation\": 0.7302147110597571}, \"condition\": {\"type\": \"NUMERICAL_IS_HIGHER_THAN\", \"attribute\": \"text_word_cnt\", \"threshold\": 102.5}, \"children\": [{\"value\": {\"type\": \"REGRESSION\", \"value\": 1.0392014980316162, \"num_examples\": 687.0, \"standard_deviation\": 0.7516591566709688}, \"condition\": {\"type\": \"NUMERICAL_IS_HIGHER_THAN\", \"attribute\": \"text_word_cnt\", \"threshold\": 112.5}}, {\"value\": {\"type\": \"REGRESSION\", \"value\": 0.4220746159553528, \"num_examples\": 775.0, \"standard_deviation\": 0.5710366954869586}, \"condition\": {\"type\": \"NUMERICAL_IS_HIGHER_THAN\", \"attribute\": \"text_char_len\", \"threshold\": 477.5}}]}]}, {\"value\": {\"type\": \"REGRESSION\", \"value\": -0.5755974650382996, \"num_examples\": 3847.0, \"standard_deviation\": 0.6101537807687394}, \"condition\": {\"type\": \"NUMERICAL_IS_HIGHER_THAN\", \"attribute\": \"text_char_len\", \"threshold\": 224.5}, \"children\": [{\"value\": {\"type\": \"REGRESSION\", \"value\": -0.25125592947006226, \"num_examples\": 2230.0, \"standard_deviation\": 0.5015578816805089}, \"condition\": {\"type\": \"NUMERICAL_IS_HIGHER_THAN\", \"attribute\": \"text_char_len\", \"threshold\": 335.5}, \"children\": [{\"value\": {\"type\": \"REGRESSION\", \"value\": 0.028377896174788475, \"num_examples\": 743.0, \"standard_deviation\": 0.4482114640146473}, \"condition\": {\"type\": \"NUMERICAL_IS_HIGHER_THAN\", \"attribute\": \"text_char_len\", \"threshold\": 375.5}}, {\"value\": {\"type\": \"REGRESSION\", \"value\": -0.3909788131713867, \"num_examples\": 1487.0, \"standard_deviation\": 0.46720759886568297}, \"condition\": {\"type\": \"NUMERICAL_IS_HIGHER_THAN\", \"attribute\": \"text_char_len\", \"threshold\": 286.5}}]}, {\"value\": {\"type\": \"REGRESSION\", \"value\": -1.0228960514068604, \"num_examples\": 1617.0, \"standard_deviation\": 0.4400328127407769}, \"condition\": {\"type\": \"NUMERICAL_IS_HIGHER_THAN\", \"attribute\": \"text_char_len\", \"threshold\": 177.5}, \"children\": [{\"value\": {\"type\": \"REGRESSION\", \"value\": -0.8396804928779602, \"num_examples\": 804.0, \"standard_deviation\": 0.45677420673548097}, \"condition\": {\"type\": \"NUMERICAL_IS_HIGHER_THAN\", \"attribute\": \"text_char_len\", \"threshold\": 192.5}}, {\"value\": {\"type\": \"REGRESSION\", \"value\": -1.2040833234786987, \"num_examples\": 813.0, \"standard_deviation\": 0.3357917538966126}, \"condition\": {\"type\": \"NUMERICAL_IS_HIGHER_THAN\", \"attribute\": \"text_word_cnt\", \"threshold\": 27.5}}]}]}]}, \"#tree_plot_3952c15196d04d0eaa0258092efc3a83\")\n",
       "</script>\n"
      ],
      "text/plain": [
       "<IPython.core.display.HTML object>"
      ]
     },
     "execution_count": 28,
     "metadata": {},
     "output_type": "execute_result"
    }
   ],
   "source": [
    "tfdf.model_plotter.plot_model_in_colab(model_4_content,tree_idx=3,max_depth=3)"
   ]
  },
  {
   "cell_type": "markdown",
   "id": "0be1bad2",
   "metadata": {
    "papermill": {
     "duration": 0.014194,
     "end_time": "2023-12-06T18:57:24.337397",
     "exception": false,
     "start_time": "2023-12-06T18:57:24.323203",
     "status": "completed"
    },
    "tags": []
   },
   "source": [
    "**EVALUATION**"
   ]
  },
  {
   "cell_type": "code",
   "execution_count": 29,
   "id": "a8000386",
   "metadata": {
    "execution": {
     "iopub.execute_input": "2023-12-06T18:57:24.367154Z",
     "iopub.status.busy": "2023-12-06T18:57:24.366331Z",
     "iopub.status.idle": "2023-12-06T18:57:24.755920Z",
     "shell.execute_reply": "2023-12-06T18:57:24.754964Z"
    },
    "papermill": {
     "duration": 0.406543,
     "end_time": "2023-12-06T18:57:24.757732",
     "exception": false,
     "start_time": "2023-12-06T18:57:24.351189",
     "status": "completed"
    },
    "tags": []
   },
   "outputs": [
    {
     "data": {
      "image/png": "[encoded data removed]",
      "text/plain": [
       "<Figure size 640x480 with 1 Axes>"
      ]
     },
     "metadata": {},
     "output_type": "display_data"
    }
   ],
   "source": [
    "logs = model_4_content.make_inspector().training_logs()\n",
    "plt.plot([log.num_trees for log in logs], [log.evaluation.rmse for log in logs])\n",
    "plt.xlabel(\"Number of trees\")\n",
    "plt.ylabel(\"RMSE (out-of-bag)\")\n",
    "plt.show()"
   ]
  },
  {
   "cell_type": "code",
   "execution_count": 30,
   "id": "fb7766d9",
   "metadata": {
    "execution": {
     "iopub.execute_input": "2023-12-06T18:57:24.788864Z",
     "iopub.status.busy": "2023-12-06T18:57:24.788498Z",
     "iopub.status.idle": "2023-12-06T18:57:24.966071Z",
     "shell.execute_reply": "2023-12-06T18:57:24.964337Z"
    },
    "papermill": {
     "duration": 0.195662,
     "end_time": "2023-12-06T18:57:24.968067",
     "exception": false,
     "start_time": "2023-12-06T18:57:24.772405",
     "status": "completed"
    },
    "tags": []
   },
   "outputs": [
    {
     "data": {
      "image/png": "[encoded data removed]",
      "text/plain": [
       "<Figure size 640x480 with 1 Axes>"
      ]
     },
     "metadata": {},
     "output_type": "display_data"
    }
   ],
   "source": [
    "logs = model_4_wording.make_inspector().training_logs()\n",
    "plt.plot([log.num_trees for log in logs], [log.evaluation.rmse for log in logs])\n",
    "plt.xlabel(\"Number of trees\")\n",
    "plt.ylabel(\"RMSE (out-of-bag)\")\n",
    "plt.show()"
   ]
  },
  {
   "cell_type": "code",
   "execution_count": 31,
   "id": "2749f9c6",
   "metadata": {
    "execution": {
     "iopub.execute_input": "2023-12-06T18:57:25.000774Z",
     "iopub.status.busy": "2023-12-06T18:57:25.000424Z",
     "iopub.status.idle": "2023-12-06T18:57:25.007235Z",
     "shell.execute_reply": "2023-12-06T18:57:25.006398Z"
    },
    "papermill": {
     "duration": 0.025609,
     "end_time": "2023-12-06T18:57:25.008809",
     "exception": false,
     "start_time": "2023-12-06T18:57:24.983200",
     "status": "completed"
    },
    "tags": []
   },
   "outputs": [
    {
     "data": {
      "text/plain": [
       "Evaluation(num_examples=5771, accuracy=None, loss=None, rmse=0.524881405985051, ndcg=None, aucs=None, auuc=None, qini=None)"
      ]
     },
     "execution_count": 31,
     "metadata": {},
     "output_type": "execute_result"
    }
   ],
   "source": [
    "inspector_waala_content=model_4_content.make_inspector()\n",
    "inspector_waala_content.evaluation()"
   ]
  },
  {
   "cell_type": "code",
   "execution_count": 32,
   "id": "fade39ee",
   "metadata": {
    "execution": {
     "iopub.execute_input": "2023-12-06T18:57:25.040569Z",
     "iopub.status.busy": "2023-12-06T18:57:25.040231Z",
     "iopub.status.idle": "2023-12-06T18:57:25.047710Z",
     "shell.execute_reply": "2023-12-06T18:57:25.046890Z"
    },
    "papermill": {
     "duration": 0.025642,
     "end_time": "2023-12-06T18:57:25.049595",
     "exception": false,
     "start_time": "2023-12-06T18:57:25.023953",
     "status": "completed"
    },
    "tags": []
   },
   "outputs": [
    {
     "data": {
      "text/plain": [
       "Evaluation(num_examples=5771, accuracy=None, loss=None, rmse=0.7966614683890855, ndcg=None, aucs=None, auuc=None, qini=None)"
      ]
     },
     "execution_count": 32,
     "metadata": {},
     "output_type": "execute_result"
    }
   ],
   "source": [
    "inspector_waala_wording=model_4_wording.make_inspector()\n",
    "inspector_waala_wording.evaluation()"
   ]
  },
  {
   "cell_type": "code",
   "execution_count": 33,
   "id": "18fcba2c",
   "metadata": {
    "execution": {
     "iopub.execute_input": "2023-12-06T18:57:25.081138Z",
     "iopub.status.busy": "2023-12-06T18:57:25.080752Z",
     "iopub.status.idle": "2023-12-06T18:57:25.749801Z",
     "shell.execute_reply": "2023-12-06T18:57:25.749169Z"
    },
    "papermill": {
     "duration": 0.68684,
     "end_time": "2023-12-06T18:57:25.751625",
     "exception": false,
     "start_time": "2023-12-06T18:57:25.064785",
     "status": "completed"
    },
    "tags": []
   },
   "outputs": [
    {
     "name": "stdout",
     "output_type": "stream",
     "text": [
      "2/2 [==============================] - 0s 24ms/step - loss: 0.0000e+00 - mse: 0.2729\n",
      "loss: 0.0000\n",
      "mse: 0.2729\n",
      "2/2 [==============================] - 0s 21ms/step - loss: 0.0000e+00 - mse: 0.6378\n",
      "loss: 0.0000\n",
      "mse: 0.6378\n"
     ]
    }
   ],
   "source": [
    "content_valid = tfdf.keras.pd_dataframe_to_tf_dataset(test_set[feature_content], label=\"content\", task = tfdf.keras.Task.REGRESSION)\n",
    "\n",
    "# Create validation dataset for model_wording\n",
    "wording_valid = tfdf.keras.pd_dataframe_to_tf_dataset(test_set[feature_wording], label=\"wording\", task = tfdf.keras.Task.REGRESSION)\n",
    "\n",
    "# Run evaluation for model_content\n",
    "evaluation_content = model_4_content.evaluate(x=content_valid,return_dict=True)\n",
    "for name, value in evaluation_content.items():\n",
    "  print(f\"{name}: {value:.4f}\")\n",
    "# Run evaluation for model_wording\n",
    "evaluation_wording = model_4_wording.evaluate(x=wording_valid,return_dict=True)\n",
    "for name, value in evaluation_wording.items():\n",
    "  print(f\"{name}: {value:.4f}\")"
   ]
  },
  {
   "cell_type": "code",
   "execution_count": 34,
   "id": "c7fb13a5",
   "metadata": {
    "execution": {
     "iopub.execute_input": "2023-12-06T18:57:25.784005Z",
     "iopub.status.busy": "2023-12-06T18:57:25.783643Z",
     "iopub.status.idle": "2023-12-06T18:57:25.798091Z",
     "shell.execute_reply": "2023-12-06T18:57:25.797263Z"
    },
    "papermill": {
     "duration": 0.032554,
     "end_time": "2023-12-06T18:57:25.799776",
     "exception": false,
     "start_time": "2023-12-06T18:57:25.767222",
     "status": "completed"
    },
    "tags": []
   },
   "outputs": [],
   "source": [
    "test_prompt=pd.read_csv(\"/kaggle/input/commonlit-evaluate-student-summaries/prompts_test.csv\")\n",
    "test_summary=pd.read_csv(\"/kaggle/input/commonlit-evaluate-student-summaries/summaries_test.csv\")\n"
   ]
  },
  {
   "cell_type": "code",
   "execution_count": 35,
   "id": "babadd42",
   "metadata": {
    "execution": {
     "iopub.execute_input": "2023-12-06T18:57:25.832217Z",
     "iopub.status.busy": "2023-12-06T18:57:25.831602Z",
     "iopub.status.idle": "2023-12-06T18:57:25.837693Z",
     "shell.execute_reply": "2023-12-06T18:57:25.837036Z"
    },
    "papermill": {
     "duration": 0.024071,
     "end_time": "2023-12-06T18:57:25.839399",
     "exception": false,
     "start_time": "2023-12-06T18:57:25.815328",
     "status": "completed"
    },
    "tags": []
   },
   "outputs": [],
   "source": [
    "test=test_summary.merge(test_prompt,on='prompt_id')"
   ]
  },
  {
   "cell_type": "code",
   "execution_count": 36,
   "id": "d34b34a3",
   "metadata": {
    "execution": {
     "iopub.execute_input": "2023-12-06T18:57:25.871632Z",
     "iopub.status.busy": "2023-12-06T18:57:25.870972Z",
     "iopub.status.idle": "2023-12-06T18:57:25.880733Z",
     "shell.execute_reply": "2023-12-06T18:57:25.880080Z"
    },
    "papermill": {
     "duration": 0.027851,
     "end_time": "2023-12-06T18:57:25.882258",
     "exception": false,
     "start_time": "2023-12-06T18:57:25.854407",
     "status": "completed"
    },
    "tags": []
   },
   "outputs": [
    {
     "data": {
      "text/html": [
       "<div>\n",
       "<style scoped>\n",
       "    .dataframe tbody tr th:only-of-type {\n",
       "        vertical-align: middle;\n",
       "    }\n",
       "\n",
       "    .dataframe tbody tr th {\n",
       "        vertical-align: top;\n",
       "    }\n",
       "\n",
       "    .dataframe thead th {\n",
       "        text-align: right;\n",
       "    }\n",
       "</style>\n",
       "<table border=\"1\" class=\"dataframe\">\n",
       "  <thead>\n",
       "    <tr style=\"text-align: right;\">\n",
       "      <th></th>\n",
       "      <th>student_id</th>\n",
       "      <th>prompt_id</th>\n",
       "      <th>text</th>\n",
       "      <th>prompt_question</th>\n",
       "      <th>prompt_title</th>\n",
       "      <th>prompt_text</th>\n",
       "    </tr>\n",
       "  </thead>\n",
       "  <tbody>\n",
       "    <tr>\n",
       "      <th>0</th>\n",
       "      <td>000000ffffff</td>\n",
       "      <td>abc123</td>\n",
       "      <td>Example text 1</td>\n",
       "      <td>Summarize...</td>\n",
       "      <td>Example Title 1</td>\n",
       "      <td>Heading\\nText...</td>\n",
       "    </tr>\n",
       "    <tr>\n",
       "      <th>1</th>\n",
       "      <td>222222cccccc</td>\n",
       "      <td>abc123</td>\n",
       "      <td>Example text 3</td>\n",
       "      <td>Summarize...</td>\n",
       "      <td>Example Title 1</td>\n",
       "      <td>Heading\\nText...</td>\n",
       "    </tr>\n",
       "    <tr>\n",
       "      <th>2</th>\n",
       "      <td>111111eeeeee</td>\n",
       "      <td>def789</td>\n",
       "      <td>Example text 2</td>\n",
       "      <td>Summarize...</td>\n",
       "      <td>Example Title 2</td>\n",
       "      <td>Heading\\nText...</td>\n",
       "    </tr>\n",
       "    <tr>\n",
       "      <th>3</th>\n",
       "      <td>333333dddddd</td>\n",
       "      <td>def789</td>\n",
       "      <td>Example text 4</td>\n",
       "      <td>Summarize...</td>\n",
       "      <td>Example Title 2</td>\n",
       "      <td>Heading\\nText...</td>\n",
       "    </tr>\n",
       "  </tbody>\n",
       "</table>\n",
       "</div>"
      ],
      "text/plain": [
       "     student_id prompt_id            text prompt_question     prompt_title  \\\n",
       "0  000000ffffff    abc123  Example text 1    Summarize...  Example Title 1   \n",
       "1  222222cccccc    abc123  Example text 3    Summarize...  Example Title 1   \n",
       "2  111111eeeeee    def789  Example text 2    Summarize...  Example Title 2   \n",
       "3  333333dddddd    def789  Example text 4    Summarize...  Example Title 2   \n",
       "\n",
       "        prompt_text  \n",
       "0  Heading\\nText...  \n",
       "1  Heading\\nText...  \n",
       "2  Heading\\nText...  \n",
       "3  Heading\\nText...  "
      ]
     },
     "execution_count": 36,
     "metadata": {},
     "output_type": "execute_result"
    }
   ],
   "source": [
    "test.head()"
   ]
  },
  {
   "cell_type": "code",
   "execution_count": 37,
   "id": "288f0611",
   "metadata": {
    "execution": {
     "iopub.execute_input": "2023-12-06T18:57:25.915120Z",
     "iopub.status.busy": "2023-12-06T18:57:25.914499Z",
     "iopub.status.idle": "2023-12-06T18:57:25.922069Z",
     "shell.execute_reply": "2023-12-06T18:57:25.921150Z"
    },
    "papermill": {
     "duration": 0.026146,
     "end_time": "2023-12-06T18:57:25.923960",
     "exception": false,
     "start_time": "2023-12-06T18:57:25.897814",
     "status": "completed"
    },
    "tags": []
   },
   "outputs": [],
   "source": [
    "processed_test=feature_creation(test)"
   ]
  },
  {
   "cell_type": "code",
   "execution_count": 38,
   "id": "d8ad7552",
   "metadata": {
    "execution": {
     "iopub.execute_input": "2023-12-06T18:57:25.955719Z",
     "iopub.status.busy": "2023-12-06T18:57:25.955367Z",
     "iopub.status.idle": "2023-12-06T18:57:25.969918Z",
     "shell.execute_reply": "2023-12-06T18:57:25.968891Z"
    },
    "papermill": {
     "duration": 0.032246,
     "end_time": "2023-12-06T18:57:25.971499",
     "exception": false,
     "start_time": "2023-12-06T18:57:25.939253",
     "status": "completed"
    },
    "tags": []
   },
   "outputs": [
    {
     "data": {
      "text/html": [
       "<div>\n",
       "<style scoped>\n",
       "    .dataframe tbody tr th:only-of-type {\n",
       "        vertical-align: middle;\n",
       "    }\n",
       "\n",
       "    .dataframe tbody tr th {\n",
       "        vertical-align: top;\n",
       "    }\n",
       "\n",
       "    .dataframe thead th {\n",
       "        text-align: right;\n",
       "    }\n",
       "</style>\n",
       "<table border=\"1\" class=\"dataframe\">\n",
       "  <thead>\n",
       "    <tr style=\"text-align: right;\">\n",
       "      <th></th>\n",
       "      <th>student_id</th>\n",
       "      <th>prompt_id</th>\n",
       "      <th>text</th>\n",
       "      <th>prompt_question</th>\n",
       "      <th>prompt_title</th>\n",
       "      <th>prompt_text</th>\n",
       "      <th>text_word_cnt</th>\n",
       "      <th>text_char_len</th>\n",
       "      <th>text_stopwords_cnt</th>\n",
       "      <th>text_punctuation_cnt</th>\n",
       "      <th>text_number_cnt</th>\n",
       "    </tr>\n",
       "  </thead>\n",
       "  <tbody>\n",
       "    <tr>\n",
       "      <th>0</th>\n",
       "      <td>000000ffffff</td>\n",
       "      <td>abc123</td>\n",
       "      <td>Example text 1</td>\n",
       "      <td>Summarize...</td>\n",
       "      <td>Example Title 1</td>\n",
       "      <td>Heading\\nText...</td>\n",
       "      <td>3</td>\n",
       "      <td>14</td>\n",
       "      <td>0</td>\n",
       "      <td>0</td>\n",
       "      <td>1</td>\n",
       "    </tr>\n",
       "    <tr>\n",
       "      <th>1</th>\n",
       "      <td>222222cccccc</td>\n",
       "      <td>abc123</td>\n",
       "      <td>Example text 3</td>\n",
       "      <td>Summarize...</td>\n",
       "      <td>Example Title 1</td>\n",
       "      <td>Heading\\nText...</td>\n",
       "      <td>3</td>\n",
       "      <td>14</td>\n",
       "      <td>0</td>\n",
       "      <td>0</td>\n",
       "      <td>1</td>\n",
       "    </tr>\n",
       "    <tr>\n",
       "      <th>2</th>\n",
       "      <td>111111eeeeee</td>\n",
       "      <td>def789</td>\n",
       "      <td>Example text 2</td>\n",
       "      <td>Summarize...</td>\n",
       "      <td>Example Title 2</td>\n",
       "      <td>Heading\\nText...</td>\n",
       "      <td>3</td>\n",
       "      <td>14</td>\n",
       "      <td>0</td>\n",
       "      <td>0</td>\n",
       "      <td>1</td>\n",
       "    </tr>\n",
       "    <tr>\n",
       "      <th>3</th>\n",
       "      <td>333333dddddd</td>\n",
       "      <td>def789</td>\n",
       "      <td>Example text 4</td>\n",
       "      <td>Summarize...</td>\n",
       "      <td>Example Title 2</td>\n",
       "      <td>Heading\\nText...</td>\n",
       "      <td>3</td>\n",
       "      <td>14</td>\n",
       "      <td>0</td>\n",
       "      <td>0</td>\n",
       "      <td>1</td>\n",
       "    </tr>\n",
       "  </tbody>\n",
       "</table>\n",
       "</div>"
      ],
      "text/plain": [
       "     student_id prompt_id            text prompt_question     prompt_title  \\\n",
       "0  000000ffffff    abc123  Example text 1    Summarize...  Example Title 1   \n",
       "1  222222cccccc    abc123  Example text 3    Summarize...  Example Title 1   \n",
       "2  111111eeeeee    def789  Example text 2    Summarize...  Example Title 2   \n",
       "3  333333dddddd    def789  Example text 4    Summarize...  Example Title 2   \n",
       "\n",
       "        prompt_text  text_word_cnt  text_char_len  text_stopwords_cnt  \\\n",
       "0  Heading\\nText...              3             14                   0   \n",
       "1  Heading\\nText...              3             14                   0   \n",
       "2  Heading\\nText...              3             14                   0   \n",
       "3  Heading\\nText...              3             14                   0   \n",
       "\n",
       "   text_punctuation_cnt  text_number_cnt  \n",
       "0                     0                1  \n",
       "1                     0                1  \n",
       "2                     0                1  \n",
       "3                     0                1  "
      ]
     },
     "execution_count": 38,
     "metadata": {},
     "output_type": "execute_result"
    }
   ],
   "source": [
    "processed_test.head()"
   ]
  },
  {
   "cell_type": "code",
   "execution_count": 39,
   "id": "d1ddac1d",
   "metadata": {
    "execution": {
     "iopub.execute_input": "2023-12-06T18:57:26.005251Z",
     "iopub.status.busy": "2023-12-06T18:57:26.004678Z",
     "iopub.status.idle": "2023-12-06T18:57:26.016713Z",
     "shell.execute_reply": "2023-12-06T18:57:26.015889Z"
    },
    "papermill": {
     "duration": 0.031356,
     "end_time": "2023-12-06T18:57:26.018507",
     "exception": false,
     "start_time": "2023-12-06T18:57:25.987151",
     "status": "completed"
    },
    "tags": []
   },
   "outputs": [],
   "source": [
    "test_transformed=tfdf.keras.pd_dataframe_to_tf_dataset(processed_test[feature_columns],task = tfdf.keras.Task.REGRESSION)"
   ]
  },
  {
   "cell_type": "code",
   "execution_count": 40,
   "id": "5f9503cd",
   "metadata": {
    "execution": {
     "iopub.execute_input": "2023-12-06T18:57:26.050542Z",
     "iopub.status.busy": "2023-12-06T18:57:26.050132Z",
     "iopub.status.idle": "2023-12-06T18:57:26.161371Z",
     "shell.execute_reply": "2023-12-06T18:57:26.160668Z"
    },
    "papermill": {
     "duration": 0.129587,
     "end_time": "2023-12-06T18:57:26.163330",
     "exception": false,
     "start_time": "2023-12-06T18:57:26.033743",
     "status": "completed"
    },
    "tags": []
   },
   "outputs": [
    {
     "name": "stdout",
     "output_type": "stream",
     "text": [
      "1/1 [==============================] - 0s 68ms/step\n",
      "1/1 [==============================] - 0s 26ms/step\n"
     ]
    }
   ],
   "source": [
    "processed_test['content']=model_4_content.predict(test_transformed)\n",
    "processed_test['wording']=model_4_wording.predict(test_transformed)"
   ]
  },
  {
   "cell_type": "code",
   "execution_count": 41,
   "id": "c6ba2faf",
   "metadata": {
    "execution": {
     "iopub.execute_input": "2023-12-06T18:57:26.197168Z",
     "iopub.status.busy": "2023-12-06T18:57:26.196330Z",
     "iopub.status.idle": "2023-12-06T18:57:26.209534Z",
     "shell.execute_reply": "2023-12-06T18:57:26.208244Z"
    },
    "papermill": {
     "duration": 0.032587,
     "end_time": "2023-12-06T18:57:26.212029",
     "exception": false,
     "start_time": "2023-12-06T18:57:26.179442",
     "status": "completed"
    },
    "tags": []
   },
   "outputs": [
    {
     "data": {
      "text/html": [
       "<div>\n",
       "<style scoped>\n",
       "    .dataframe tbody tr th:only-of-type {\n",
       "        vertical-align: middle;\n",
       "    }\n",
       "\n",
       "    .dataframe tbody tr th {\n",
       "        vertical-align: top;\n",
       "    }\n",
       "\n",
       "    .dataframe thead th {\n",
       "        text-align: right;\n",
       "    }\n",
       "</style>\n",
       "<table border=\"1\" class=\"dataframe\">\n",
       "  <thead>\n",
       "    <tr style=\"text-align: right;\">\n",
       "      <th></th>\n",
       "      <th>student_id</th>\n",
       "      <th>prompt_id</th>\n",
       "      <th>text</th>\n",
       "      <th>prompt_question</th>\n",
       "      <th>prompt_title</th>\n",
       "      <th>prompt_text</th>\n",
       "      <th>text_word_cnt</th>\n",
       "      <th>text_char_len</th>\n",
       "      <th>text_stopwords_cnt</th>\n",
       "      <th>text_punctuation_cnt</th>\n",
       "      <th>text_number_cnt</th>\n",
       "      <th>content</th>\n",
       "      <th>wording</th>\n",
       "    </tr>\n",
       "  </thead>\n",
       "  <tbody>\n",
       "    <tr>\n",
       "      <th>0</th>\n",
       "      <td>000000ffffff</td>\n",
       "      <td>abc123</td>\n",
       "      <td>Example text 1</td>\n",
       "      <td>Summarize...</td>\n",
       "      <td>Example Title 1</td>\n",
       "      <td>Heading\\nText...</td>\n",
       "      <td>3</td>\n",
       "      <td>14</td>\n",
       "      <td>0</td>\n",
       "      <td>0</td>\n",
       "      <td>1</td>\n",
       "      <td>-1.355119</td>\n",
       "      <td>-1.409008</td>\n",
       "    </tr>\n",
       "    <tr>\n",
       "      <th>1</th>\n",
       "      <td>222222cccccc</td>\n",
       "      <td>abc123</td>\n",
       "      <td>Example text 3</td>\n",
       "      <td>Summarize...</td>\n",
       "      <td>Example Title 1</td>\n",
       "      <td>Heading\\nText...</td>\n",
       "      <td>3</td>\n",
       "      <td>14</td>\n",
       "      <td>0</td>\n",
       "      <td>0</td>\n",
       "      <td>1</td>\n",
       "      <td>-1.355119</td>\n",
       "      <td>-1.409008</td>\n",
       "    </tr>\n",
       "    <tr>\n",
       "      <th>2</th>\n",
       "      <td>111111eeeeee</td>\n",
       "      <td>def789</td>\n",
       "      <td>Example text 2</td>\n",
       "      <td>Summarize...</td>\n",
       "      <td>Example Title 2</td>\n",
       "      <td>Heading\\nText...</td>\n",
       "      <td>3</td>\n",
       "      <td>14</td>\n",
       "      <td>0</td>\n",
       "      <td>0</td>\n",
       "      <td>1</td>\n",
       "      <td>-1.355119</td>\n",
       "      <td>-1.409008</td>\n",
       "    </tr>\n",
       "    <tr>\n",
       "      <th>3</th>\n",
       "      <td>333333dddddd</td>\n",
       "      <td>def789</td>\n",
       "      <td>Example text 4</td>\n",
       "      <td>Summarize...</td>\n",
       "      <td>Example Title 2</td>\n",
       "      <td>Heading\\nText...</td>\n",
       "      <td>3</td>\n",
       "      <td>14</td>\n",
       "      <td>0</td>\n",
       "      <td>0</td>\n",
       "      <td>1</td>\n",
       "      <td>-1.355119</td>\n",
       "      <td>-1.409008</td>\n",
       "    </tr>\n",
       "  </tbody>\n",
       "</table>\n",
       "</div>"
      ],
      "text/plain": [
       "     student_id prompt_id            text prompt_question     prompt_title  \\\n",
       "0  000000ffffff    abc123  Example text 1    Summarize...  Example Title 1   \n",
       "1  222222cccccc    abc123  Example text 3    Summarize...  Example Title 1   \n",
       "2  111111eeeeee    def789  Example text 2    Summarize...  Example Title 2   \n",
       "3  333333dddddd    def789  Example text 4    Summarize...  Example Title 2   \n",
       "\n",
       "        prompt_text  text_word_cnt  text_char_len  text_stopwords_cnt  \\\n",
       "0  Heading\\nText...              3             14                   0   \n",
       "1  Heading\\nText...              3             14                   0   \n",
       "2  Heading\\nText...              3             14                   0   \n",
       "3  Heading\\nText...              3             14                   0   \n",
       "\n",
       "   text_punctuation_cnt  text_number_cnt   content   wording  \n",
       "0                     0                1 -1.355119 -1.409008  \n",
       "1                     0                1 -1.355119 -1.409008  \n",
       "2                     0                1 -1.355119 -1.409008  \n",
       "3                     0                1 -1.355119 -1.409008  "
      ]
     },
     "execution_count": 41,
     "metadata": {},
     "output_type": "execute_result"
    }
   ],
   "source": [
    "processed_test.head()"
   ]
  },
  {
   "cell_type": "code",
   "execution_count": 42,
   "id": "9dc2da46",
   "metadata": {
    "execution": {
     "iopub.execute_input": "2023-12-06T18:57:26.248958Z",
     "iopub.status.busy": "2023-12-06T18:57:26.248113Z",
     "iopub.status.idle": "2023-12-06T18:57:26.263678Z",
     "shell.execute_reply": "2023-12-06T18:57:26.262777Z"
    },
    "papermill": {
     "duration": 0.036096,
     "end_time": "2023-12-06T18:57:26.266028",
     "exception": false,
     "start_time": "2023-12-06T18:57:26.229932",
     "status": "completed"
    },
    "tags": []
   },
   "outputs": [
    {
     "data": {
      "text/html": [
       "<div>\n",
       "<style scoped>\n",
       "    .dataframe tbody tr th:only-of-type {\n",
       "        vertical-align: middle;\n",
       "    }\n",
       "\n",
       "    .dataframe tbody tr th {\n",
       "        vertical-align: top;\n",
       "    }\n",
       "\n",
       "    .dataframe thead th {\n",
       "        text-align: right;\n",
       "    }\n",
       "</style>\n",
       "<table border=\"1\" class=\"dataframe\">\n",
       "  <thead>\n",
       "    <tr style=\"text-align: right;\">\n",
       "      <th></th>\n",
       "      <th>student_id</th>\n",
       "      <th>content</th>\n",
       "      <th>wording</th>\n",
       "    </tr>\n",
       "  </thead>\n",
       "  <tbody>\n",
       "    <tr>\n",
       "      <th>0</th>\n",
       "      <td>000000ffffff</td>\n",
       "      <td>-1.35512</td>\n",
       "      <td>-1.409007</td>\n",
       "    </tr>\n",
       "    <tr>\n",
       "      <th>1</th>\n",
       "      <td>222222cccccc</td>\n",
       "      <td>-1.35512</td>\n",
       "      <td>-1.409007</td>\n",
       "    </tr>\n",
       "    <tr>\n",
       "      <th>2</th>\n",
       "      <td>111111eeeeee</td>\n",
       "      <td>-1.35512</td>\n",
       "      <td>-1.409007</td>\n",
       "    </tr>\n",
       "    <tr>\n",
       "      <th>3</th>\n",
       "      <td>333333dddddd</td>\n",
       "      <td>-1.35512</td>\n",
       "      <td>-1.409007</td>\n",
       "    </tr>\n",
       "  </tbody>\n",
       "</table>\n",
       "</div>"
      ],
      "text/plain": [
       "     student_id  content   wording\n",
       "0  000000ffffff -1.35512 -1.409007\n",
       "1  222222cccccc -1.35512 -1.409007\n",
       "2  111111eeeeee -1.35512 -1.409007\n",
       "3  333333dddddd -1.35512 -1.409007"
      ]
     },
     "metadata": {},
     "output_type": "display_data"
    }
   ],
   "source": [
    "processed_test[['student_id', 'content', 'wording']].to_csv('submission.csv',index=False)\n",
    "display(pd.read_csv('submission.csv'))"
   ]
  },
  {
   "cell_type": "code",
   "execution_count": null,
   "id": "95f9ae7d",
   "metadata": {
    "papermill": {
     "duration": 0.01657,
     "end_time": "2023-12-06T18:57:26.299301",
     "exception": false,
     "start_time": "2023-12-06T18:57:26.282731",
     "status": "completed"
    },
    "tags": []
   },
   "outputs": [],
   "source": []
  }
 ],
 "metadata": {
  "kaggle": {
   "accelerator": "none",
   "dataSources": [
    {
     "databundleVersionId": 6201832,
     "sourceId": 53482,
     "sourceType": "competition"
    }
   ],
   "dockerImageVersionId": 30587,
   "isGpuEnabled": false,
   "isInternetEnabled": false,
   "language": "python",
   "sourceType": "notebook"
  },
  "kernelspec": {
   "display_name": "Python 3",
   "language": "python",
   "name": "python3"
  },
  "language_info": {
   "codemirror_mode": {
    "name": "ipython",
    "version": 3
   },
   "file_extension": ".py",
   "mimetype": "text/x-python",
   "name": "python",
   "nbconvert_exporter": "python",
   "pygments_lexer": "ipython3",
   "version": "3.10.12"
  },
  "papermill": {
   "default_parameters": {},
   "duration": 35.753221,
   "end_time": "2023-12-06T18:57:27.837998",
   "environment_variables": {},
   "exception": null,
   "input_path": "__notebook__.ipynb",
   "output_path": "__notebook__.ipynb",
   "parameters": {},
   "start_time": "2023-12-06T18:56:52.084777",
   "version": "2.4.0"
  }
 },
 "nbformat": 4,
 "nbformat_minor": 5
}
